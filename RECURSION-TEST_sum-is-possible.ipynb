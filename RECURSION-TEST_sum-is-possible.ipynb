{
 "cells": [
  {
   "cell_type": "code",
   "execution_count": 14,
   "metadata": {},
   "outputs": [
    {
     "data": {
      "text/plain": [
       "True"
      ]
     },
     "execution_count": 14,
     "metadata": {},
     "output_type": "execute_result"
    }
   ],
   "source": [
    "def check_if_sum_possible(arr, k, n=0, total=0):\n",
    "    if n == len(arr):\n",
    "        return True if arr and total == k else False\n",
    "    for i in range(n, len(arr)):\n",
    "        total += arr[i]\n",
    "        if arr and total == k: return True\n",
    "        elif any([\n",
    "            total > 0 and total > k,\n",
    "            total < 0 and total < k\n",
    "        ]): return False\n",
    "        if check_if_sum_possible(arr, k, n + 1, total): return True\n",
    "        if total > 0:\n",
    "            total -= arr[i]\n",
    "        total += arr[i]\n",
    "    return False\n",
    "\n",
    "arr = [-5, -10, 5]\n",
    "k = -15\n",
    "check_if_sum_possible(arr, k)"
   ]
  }
 ],
 "metadata": {
  "kernelspec": {
   "display_name": "Python 3.8.9 ('env': venv)",
   "language": "python",
   "name": "python3"
  },
  "language_info": {
   "codemirror_mode": {
    "name": "ipython",
    "version": 3
   },
   "file_extension": ".py",
   "mimetype": "text/x-python",
   "name": "python",
   "nbconvert_exporter": "python",
   "pygments_lexer": "ipython3",
   "version": "3.8.9"
  },
  "orig_nbformat": 4,
  "vscode": {
   "interpreter": {
    "hash": "7567341d4109f7d7c109ca0cef11eb54bdf88081d7a72c6faa88d24a2db59b1f"
   }
  }
 },
 "nbformat": 4,
 "nbformat_minor": 2
}
