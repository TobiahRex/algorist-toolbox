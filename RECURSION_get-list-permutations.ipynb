{
 "cells": [
  {
   "cell_type": "markdown",
   "metadata": {},
   "source": [
    "# Permutations of List\n",
    "[LeetCode #46](https://leetcode.com/problems/permutations/)\n",
    "\n",
    "Generate all permutations of a given list of the **same size**\n",
    "* Exmaple 1:\n",
    "    - Input `[1, 2, 3]`\n",
    "    - Output:\n",
    "        ```\n",
    "            [[1, 2, 3],\n",
    "             [1, 3, 2],\n",
    "             [2, 1, 3],\n",
    "             [2, 3, 1],\n",
    "             [3, 1, 2],\n",
    "             [3, 2, 1]]\n",
    "        ```\n",
    "    - This is otherwise known as _k-permutations of n_: which are the different ordered arrangements of a k-element subset of an n-set (sometimes called variations or arrangements). Also known as _partial permutations_.\n",
    "\n",
    "### Time Complexity Intuition\n",
    "1. This is not exactly an n-choose-k problem. Rather it's a **permutation** problem, with a twist. **Permutations** take into account elements of different sizes. In this case, we're collecting answers with the same size. To determine the total number of answers we're looking for, we can use the formula below.\n",
    "    - <img src=\"https://imgur.com/eXok0Cd.png\" style=\"max-width:400px\">\n",
    "    - Looking at the bottom formula in the top photo, we can see how similar this expression is to the nCk expression, but slightly different as it's missing the second `k!`.\n",
    "    - Here's a distribution of our example.\n",
    "    - <img src=\"https://imgur.com/30vncng.png\" style=\"max-width:400px\">\n",
    "2. Using the formula, we can immediately tell our Time Complexity is `N!` (e.g. `3 * 2 * 1 * (1)`)\n",
    "\n",
    "\n",
    "### Designing the Solution\n",
    "How to think about the solution\n",
    "\n",
    "#### A. Strategy\n",
    "0. Clue 1. Given that the solution requires N! time, we know we're going to need some type of tree. We can also realize that our work per-tree level is going to decrease by k, as k increases.  So if we think of the Tree structure in terms as always\n",
    "    - > How many levels?\n",
    "    - > How many branches per level?\n",
    "We can immediately intuitively come to the idea that we'll have n-levels, and k-branches per level.\n",
    "1. Clue 2. Given we'll have a varying amount of branches per level, we know we need a loop per node.\n",
    "2. Clue 3. Given that we know k should decrease per factor, we know the loop's size decreases depending on it's level in the tree, which means, it's length depends on some input."
   ]
  },
  {
   "cell_type": "code",
   "execution_count": null,
   "metadata": {},
   "outputs": [],
   "source": [
    "def solution(input, n=0, results=[]):\n",
    "    if n == len(input):\n",
    "        results.append(\n",
    "            #TODO: define next result\n",
    "        )\n",
    "    for k in range(n, len(input)):\n",
    "        # TODO: define work to be done"
   ]
  },
  {
   "cell_type": "markdown",
   "metadata": {},
   "source": [
    "3. Now the question becomes what work do we do inside our loop? A node should increment the next possible answer by a unit of 1 work-units; meaing the Node should append to the next result. But looking at the solutions, instead of *append*, we should *swap* out the last work done, with our next work to be done.\n",
    "\n",
    "## B.Tactics\n",
    "1. The **base case** will be to check if our tree has reached its target depth, which we'll track with `n`.\n",
    "2. Each **node** will have the job of swapping a value in the next result, with a new value, then calling its next worker.\n",
    "3. As the control flow returns to that **node** from a subordinate call, the node will re-swap the same value i.e. **Backtrack**.\n",
    "4. Then the node will continue to iterate across it's area of responsibility as defined by it's k-length and call again.\n",
    "    - <img src=\"https://imgur.com/wg1krAc.png\" style=\"max-width:400px\">\n",
    "\n",
    "Below is the final solution\n",
    "."
   ]
  },
  {
   "cell_type": "code",
   "execution_count": null,
   "metadata": {},
   "outputs": [],
   "source": [
    "# Final Solution\n",
    "def permutations(self, input, n=0, results=[]):\n",
    "    if n == len(input):\n",
    "        return results.append(input.copy())\n",
    "    for k in range(n, len(input)):\n",
    "        self.swap(input, n, k)\n",
    "        self.permutations(input, n+1, results)\n",
    "        self.swap(input, n, k)\n",
    "    return results\n",
    "permutations('')"
   ]
  },
  {
   "cell_type": "markdown",
   "metadata": {},
   "source": []
  },
  {
   "cell_type": "markdown",
   "metadata": {},
   "source": [
    "### Tests\n",
    "Below is the solution embedded into a test class using random sized test cases."
   ]
  },
  {
   "cell_type": "code",
   "execution_count": 2,
   "metadata": {},
   "outputs": [
    {
     "name": "stdout",
     "output_type": "stream",
     "text": [
      "Test Case:  [1, 2, 3] \n",
      "Answer:  [[1, 2, 3], [1, 3, 2], [2, 1, 3], [2, 3, 1], [3, 2, 1], [3, 1, 2]]\n"
     ]
    }
   ],
   "source": [
    "import unittest\n",
    "\n",
    "\n",
    "class ListPermutations(unittest.TestCase):\n",
    "    def __init__(self, *args, **kwargs):\n",
    "        super(ListPermutations, self).__init__( *args, **kwargs)\n",
    "\n",
    "    def run(self):\n",
    "        test_case = [1, 2, 3]\n",
    "        result = self.permutations(test_case)\n",
    "        self.assertIn([1, 2, 3], result)\n",
    "        self.assertIn([3, 1, 2], result)\n",
    "        self.assertIn([3, 2, 1], result)\n",
    "        self.assertIn([2, 3, 1], result)\n",
    "        self.assertNotIn([3, 3, 2], result)\n",
    "        self.assertNotIn([3, 2, 2], result)\n",
    "        self.assertNotIn([1, 2, 1], result)\n",
    "        self.assertEqual(len(result), 6)\n",
    "        print('Test Case: ', test_case, '\\nAnswer: ', result)\n",
    "\n",
    "    def permutations(self, input, n=0, results=[]):\n",
    "        if n == len(input):\n",
    "            return results.append(input.copy())\n",
    "        for k in range(n, len(input)):\n",
    "            self.swap(input, n, k)\n",
    "            self.permutations(input, n+1, results)\n",
    "            self.swap(input, n, k)\n",
    "        return results\n",
    "\n",
    "    @staticmethod\n",
    "    def swap(a, l, r):\n",
    "        a[l], a[r] = a[r], a[l]\n",
    "\n",
    "    def run_tests(self):\n",
    "        test_cases = self.get_test_cases(hi=0, lo=10, case_len=3, cases=1)\n",
    "        for tc in test_cases:\n",
    "            result = self.permutations(tc, 0, [])\n",
    "            self.assertEqual(len(result), 6)\n",
    "            self.assertIn(tc, result)\n",
    "\n",
    "    @staticmethod\n",
    "    def get_test_cases(hi, lo, case_len, cases):\n",
    "        import random\n",
    "        test_cases = [\n",
    "            [random.randint(hi, lo) for i in range(0, case_len)]\n",
    "            for _ in range(0, cases)]\n",
    "        return test_cases\n",
    "\n",
    "lp = ListPermutations()\n",
    "lp.run()\n",
    "lp.run_tests()"
   ]
  },
  {
   "cell_type": "markdown",
   "metadata": {},
   "source": [
    "### TakeAways\n",
    "1. This problem is concerned with performing a variable amount of work at each node in the tree. The size of the work is defined by the _previous_ Node, and will be 1 unit less work the deeper in the tree we go.\n",
    "2. This inherent decreasing loop dynamic, emulates a Factorial. `4! = 4 * 3 * 2 * 1`\n",
    "3. **Intuition** for Loops + Recursion.\n",
    "    1. > Is the loop a fixed length? or dynamic length?\n",
    "        - if _Dynamic_: Then the work will be a decreasing/increasing summation: The recursive stack will be T(n) *either `(n-1)/2` or `(n+1)/2` will still result in some quadratic time, but an average.\n",
    "        - if _Static_: Then the work will be fixed, and it can be multiplied by the depth of your recursive calls.\n",
    "    2. > How many recursive calls are there per node? i.e. # of branches per node?\n",
    "        - If there is only 1 call:\n",
    "            - If that call is **inside** the loop, then the tree will have N-branches.\n",
    "            - If that call is **outside** the loop, then the tree will have #-of-calls-branches."
   ]
  },
  {
   "cell_type": "markdown",
   "metadata": {},
   "source": [
    "### State-Spaced-Tree Analysis\n",
    "1. Input is `[1, 2, 3]` so `N = 3`\n",
    "<img src=\"https://imgur.com/KMlTMZo.png\" style=\"max-width:500px\">\n",
    "\n",
    "### Time Complexity Analysis\n",
    "0. Input size was considered as `N = 4` for stronger understanding.\n",
    "1. The intuitive approach is to isolate the factorial distribution of the tracing tree.  At **L1** we can see  that `4!` is 4 groups of 3 iterations. At **L2** we can see `3!` which is 3 groups of 2 iterations.\n",
    "2. Taking special consideration at **L0** we can think of this level as a mandatory level where we group 4! into 1 location.\n",
    "3. At each leaf node in the tree, we perform a copy of a result array that has size `N`, which is why we multiply `N!` (tree work) by `N` (copy work).\n",
    "\n",
    "<img src=\"https://imgur.com/QnHxia1.png\" style=\"max-width:350px\">"
   ]
  }
 ],
 "metadata": {
  "kernelspec": {
   "display_name": "Python 3.8.9 ('env': venv)",
   "language": "python",
   "name": "python3"
  },
  "language_info": {
   "codemirror_mode": {
    "name": "ipython",
    "version": 3
   },
   "file_extension": ".py",
   "mimetype": "text/x-python",
   "name": "python",
   "nbconvert_exporter": "python",
   "pygments_lexer": "ipython3",
   "version": "3.8.9"
  },
  "orig_nbformat": 4,
  "vscode": {
   "interpreter": {
    "hash": "7567341d4109f7d7c109ca0cef11eb54bdf88081d7a72c6faa88d24a2db59b1f"
   }
  }
 },
 "nbformat": 4,
 "nbformat_minor": 2
}
