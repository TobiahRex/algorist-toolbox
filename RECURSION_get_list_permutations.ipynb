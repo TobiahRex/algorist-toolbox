{
 "cells": [
  {
   "cell_type": "markdown",
   "metadata": {},
   "source": [
    "# Permutations of an Array\n",
    "[LeetCode #46](https://leetcode.com/problems/permutations/)\n",
    "\n",
    "## General Theory\n",
    "- Uses a __slate__ as a global-variable and inserts the Tree-Node's result into the slate on every Manager's call.\n",
    "Further, this slate uses a Dynamically adjusted __divider__ within the slate to logically separate 2 individual\n",
    "pieces of state; 1. __slate__, 2. Elements not within the __slate__.\n",
    "- Uses a loop at each node, therefore the conceptual understanding is NOT a tree, just a callstack.\n",
    "    * More on this in the **Take Away** section.\n",
    "\n",
    "## Control Flow\n",
    "1. The **base case** is to check if the __slate__ is full. If so, then we've reached a leaf-node within the tree and we've completed the task of generating an answer. Append contents of the slate to the results.\n",
    "2. Each **manager** / **node** will have the job of iterating through the sub-section of the numbers that are to the _right_ of the slate's divider.\n",
    "    - This loops will run n-l times (n = # of elements, l = Tree-Level).\n",
    "3. Within this loop, we perform 3 operations.\n",
    "4. _First_: We swap the i'th element from our current scope'd loop, with the value adjacent to the slate's current divider position. See example below"
   ]
  },
  {
   "cell_type": "code",
   "execution_count": null,
   "metadata": {},
   "outputs": [],
   "source": [
    "# Control Flow.4 Example\n",
    "slate = [5, 4, 3, 2, 1]\n",
    "#             ^   i = 1   ---->   divider position\n",
    "swap(slate, i, pos) # i = 1, pos = 1\n",
    "slate = [5, 4, 3, 2, 1]"
   ]
  },
  {
   "cell_type": "markdown",
   "metadata": {},
   "source": [
    "## Control Flow (cont'd)\n",
    "4. [cont'd] - Theoretically we're trying to invision that the divider sits between index 1 & 2, so we say it's at index 1.\n",
    "    `pos` is describing the divider's current position. `0 to pos - 1` = All elements **within** the slate. And `pos to len(array)`  = All elements outside the slate.\n",
    "5. After we've called recursively and eventually arrived at a leaf node, we'll retrace to a previous call, and undo the swap we made. Then we'll iterate through the Node's loop, and swap again.\n",
    "6. On a high-level, we should think of separation of concerns as follows\n",
    "    - Tree-Level-Work:\n",
    "        * Decide the size of the slate we're filling by fixing the slate-divider location.\n",
    "        * Produce less work (smaller loop length) the deeper into the tree we go.\n",
    "    - Node-Level-Work:\n",
    "        * Swaps elements with the divider.\n",
    "        * Number of elements to be swapped = n-l. n = size of input. l = tree-level."
   ]
  },
  {
   "cell_type": "markdown",
   "metadata": {},
   "source": []
  },
  {
   "cell_type": "code",
   "execution_count": 3,
   "metadata": {},
   "outputs": [],
   "source": [
    "def swap(a, l, r):\n",
    "    a[l], a[r] = a[r], a[l]\n",
    "\n",
    "def get_set_permutations(slate, pos=0, results=[]):\n",
    "    if pos >= len(slate):\n",
    "        results.append(slate.copy())\n",
    "        return\n",
    "    for i in range(pos, len(slate)):\n",
    "        swap(slate, i, pos)\n",
    "        get_set_permutations(slate, pos + 1, results)\n",
    "        swap(slate, pos, i)\n",
    "    return results\n",
    "\n",
    "if __name__ == '__main__':\n",
    "    result = permutations([1, 2, 3])\n",
    "    answer = [\n",
    "        [1, 2, 3],\n",
    "        [1, 3, 2],\n",
    "        [2, 1, 3],\n",
    "        [2, 3, 1],\n",
    "        [3, 2, 1],\n",
    "        [3, 1, 2]]\n",
    "    assert result == answer, 'should be equal'"
   ]
  }
 ],
 "metadata": {
  "kernelspec": {
   "display_name": "Python 3.8.9 ('env': venv)",
   "language": "python",
   "name": "python3"
  },
  "language_info": {
   "codemirror_mode": {
    "name": "ipython",
    "version": 3
   },
   "file_extension": ".py",
   "mimetype": "text/x-python",
   "name": "python",
   "nbconvert_exporter": "python",
   "pygments_lexer": "ipython3",
   "version": "3.8.9"
  },
  "orig_nbformat": 4,
  "vscode": {
   "interpreter": {
    "hash": "7567341d4109f7d7c109ca0cef11eb54bdf88081d7a72c6faa88d24a2db59b1f"
   }
  }
 },
 "nbformat": 4,
 "nbformat_minor": 2
}
