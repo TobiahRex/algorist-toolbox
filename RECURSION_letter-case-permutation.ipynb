{
 "cells": [
  {
   "cell_type": "markdown",
   "metadata": {},
   "source": [
    "# Letter Case Permutations\n",
    "[LeetCode #784](https://leetcode.com/problems/letter-case-permutation/)\n",
    "\n",
    "Given a string, transform all letters to upper and lower case and return all permutations that can be formed this way.\n",
    "\n",
    "* Example 1.\n",
    "    - `str = \"a12b\"`\n",
    "    - `expected_output = [\"A12D\", \"A12b\", \"a12B\", \"a12b\"]`\n",
    "* Example 2.\n",
    "    - `str = \"abc\"`\n",
    "    - `expected_output = ['ABC', 'ABc', 'AbC', 'Abc', 'aBC', 'aBc', 'abC', 'abc']`"
   ]
  },
  {
   "cell_type": "markdown",
   "metadata": {},
   "source": [
    "### Time Complexity Intuition\n",
    "1. This is a n-choose-k problem. If the size of `n=4`, and the choice is to upper-case a letter, than how many total sets there are is the sum of:\n",
    "    1. 4-C-0 (no letter's chosen to be uppercase) = 1\n",
    "    2. 4-C-1 (1 letter chosen to be uppercased) =  4\n",
    "    3. 4-C-2 (1 letter chosen to be uppercased) =  6\n",
    "    4. 4-C-3 (1 letter chosen to be uppercased) =  4\n",
    "    5. 4-C-4 (1 letter chosen to be uppercased) =  1\n",
    "    6. The sum is **16** sets.\n",
    "2. This analysis is how we can help ourselves explain Time Complexity of the solution. The strategy could be:\n",
    "    1. Draw Pascals triangle at depth of N, and width of Choice.\n",
    "    2. Explain how this diagram outlines a State-Space-Tree, that would mirror the Time Complexity of the recursion, which justify that the Worst Case time is going to be 2^n.\n",
    "    3. You could further explain that 2^n is intuitively thought of as work doubling on every new level in the tree.\n",
    "3. At each level in the tree, we'll make 2 choices: make the letter upper-case, or make the letter lower-case.\n",
    "    1. If the letter is NOT a letter (it's a number), then we **skip** the work for that node, but continue to call recursively.  This is an important characteristic of this problem and potentially future problems like it - we do no work: simply call the next function once. Once the return comes back, we cleanup the work done by the function we called.\n",
    "4. Whenever we've arrived at a length of 4, we'll take inventory of our proposed solution and insert it into our results.\n",
    "\n",
    "### Designing the Solution\n",
    "How to think about the solution\n",
    "\n",
    "#### A. Strategy\n",
    "0. Given that it's a nCk problem, we know we can find the result using a Brute-Force approach + State-Spaced-Tree.\n",
    "1. Given 0, we should first understand the required depth of our tree - it will almost certainly be, size N."
   ]
  },
  {
   "cell_type": "code",
   "execution_count": null,
   "metadata": {},
   "outputs": [],
   "source": [
    "if n >= len(str):\n",
    "    results.append(''.join(slate))\n",
    "    return results"
   ]
  },
  {
   "cell_type": "markdown",
   "metadata": {},
   "source": [
    "2. Next we should understand how many branches a single node in our tree will have. This will depend on the # of choices we're being offered in the problem description.\n",
    "    - > ...transform all letters to upper and lower case\n",
    "    - This clearly indicates we'll have 2-choices: Transform to UpperCase or Not.\n",
    "3. Next we should observe if our solution will have a series of fixed sizes, or the same size? Why? Because the answer to this question will tell us if we're collecting results at the leaf nodes, or at some mid-level nodes.\n",
    "    - > return all permutations that can be formed this way.\n",
    "    - _Permutations_ initially seems to indicate the results will have dynamic sizes, but when we re-read the earlier part ...\n",
    "    - > Given a string, transform all letters\n",
    "    - We realize that a string is a fixed length, and we're simply to change individual letters. This means our answers will have a fixed size, which means we'll be collecting results at the leaf-nodes.\n",
    "\n",
    "#### B. Tactics\n",
    "1. Using a _slate_ we can work our way down to Pascals Triangle Depth, all the while, appending a part of the solution along the way.  This tactic works for solutions of a fixed size, or of variable sizes.  If the solution has variable sizes - then we can assume results will be collected at different levels in the tree. If the sizes are all fixed, then we can be sure the result will be collected at the level corresponding to the length of the result (usually the leaf node).\n",
    "2. Let's disect the meat of this algorithm starting with the outtermost layer."
   ]
  },
  {
   "cell_type": "code",
   "execution_count": null,
   "metadata": {},
   "outputs": [],
   "source": [
    "char = str[n]                                           # TARGET: selecting a job\n",
    "if char.isalpha():\n",
    "    # WORK to be DONE for choosing 1 of 2, then 2 of 2 choices.\n",
    "else:\n",
    "    slate[n] = char\n",
    "    # NO WORK to be DONE, so skipping WORK\n",
    "return results"
   ]
  },
  {
   "cell_type": "markdown",
   "metadata": {},
   "source": [
    "The above code, demonstrates how there's a separation of concerns between which nodes do some WORK and which nodes simply don't do any work, but don't want to break the chain of events.  This type of structure indicates that a **constraint** exists in the problem.\n",
    "- Example:\n",
    "    - > Do some work, but only when this conditions is True.\n",
    "We might be tempted to think; this means we should return from calling any more recursive calls: but that would be VERY WRONG. We need to continue calling recursively, we simply don't do any WORK, or make any choices.\n",
    "\n",
    "A Good Analogy:  You're running a relay race, and a series of runners before you ran 400 meters, than passed off the baton to you, once you have the batton, you don't run at all, and immediately pass the batton off to the next runner.\n",
    "\n",
    "Another Analogy:  You and some friends are walking different paths and they all find fork's in their paths, but you don't find any."
   ]
  },
  {
   "cell_type": "code",
   "execution_count": null,
   "metadata": {},
   "outputs": [],
   "source": [
    "char = str[n]                                           # TARGET: selecting a job\n",
    "if char.isalpha():\n",
    "    slate[n] = char.upper()                             # WORK: Building up our next result\n",
    "                                                        # CHOOSING 1st of 2 options\n",
    "    letter_case_permutation(str, n+1, slate, results)   # handing the WORK over to the next WORKER.\n",
    "\n",
    "    slate[n] = char.lower()                             # BACKTRACKING:\n",
    "                                                        # Building up our next result\n",
    "                                                        # CHOOSING 2nd of 2 options\n",
    "\n",
    "    letter_case_permutation(str, n+1, slate, results)   # handing the WORK over to the next WORKER\n",
    "else:\n",
    "    slate[n] = char\n",
    "    letter_case_permutation(str, n+1, slate, results)\n",
    "return results"
   ]
  },
  {
   "cell_type": "markdown",
   "metadata": {},
   "source": [
    "3. Zooming into the finer details, we can see what DOING WORK looks like; A node is responsible for picking up a job and then immediately casting it to uppercase if it's a letter. This is making the first of 2 choices.  This node sits in the call stack and waits for his turn to do some more work after he calls another node to work on top of his work.  Once the first call is finished, we make another transformation and call the other nodes again to work on top of our second choice.  Finally when both of those tasks are complete, we return up the call stack, signaling our job is done.\n",
    "\n",
    "2. We can use _Backtracking_ to undo our previous call's work done to the _slate_, to then modify our next possible answer."
   ]
  },
  {
   "cell_type": "code",
   "execution_count": null,
   "metadata": {},
   "outputs": [],
   "source": [
    "letter_case_permutation(str, n+1, slate, results)   # handing the WORK over to the next WORKER.\n",
    "\n",
    "slate[n] = char.lower()                             # BACKTRACKING:\n",
    "                                                    # Building up our next result\n",
    "                                                    # CHOOSING 2nd of 2 options\n",
    "letter_case_permutation(str, n+1, slate, results)   # handing the WORK over to the next WORKER"
   ]
  },
  {
   "cell_type": "markdown",
   "metadata": {},
   "source": [
    "3. It should be noted that these 2 lines produce the *Backtracking* effect in this algorithm - we're overwriting our previous work with new work then making another call.\n",
    "4. The algorithm signature will have a recursive call to pass off the work responsbility to another node.\n",
    "5. The changes we make after this call, and before the next call will represent the different choice we're allowed to make for any given node.\n",
    "6. Once that node is finished, and all the sub-ordinate nodes' work has been \"collected\" in the form of a result, we can \"undo\" the staging of that result.\n",
    "7. In almost every case, there will be a constraint, or series of constraints defined in the problem. These constraints are how we have so many unique situations to solve. These constraints will also be **vital clues** to helping us justify our runtime complexity and determining the _Bounding Function_ of our algorithm (edge case)."
   ]
  },
  {
   "cell_type": "code",
   "execution_count": 41,
   "metadata": {},
   "outputs": [
    {
     "name": "stdout",
     "output_type": "stream",
     "text": [
      "Answer:  ['ABC', 'ABc', 'AbC', 'Abc', 'aBC', 'aBc', 'abC', 'abc']\n"
     ]
    }
   ],
   "source": [
    "def letter_case_permutation(str, n=0, slate=None, results=[]):\n",
    "    if slate is None:\n",
    "        slate = [None] * len(str)\n",
    "    if n >= len(str):\n",
    "        results.append(''.join(slate))\n",
    "        return results\n",
    "    char = str[n]\n",
    "    if char.isalpha():\n",
    "        slate[n] = char.upper()\n",
    "        letter_case_permutation(str, n+1, slate, results)\n",
    "        slate[n] = char.lower()\n",
    "        letter_case_permutation(str, n+1, slate, results)\n",
    "    else:\n",
    "        slate[n] = char\n",
    "        letter_case_permutation(str, n+1, slate, results)\n",
    "    return results\n",
    "\n",
    "print(\"Answer: \", letter_case_permutation('abc'))"
   ]
  }
 ],
 "metadata": {
  "kernelspec": {
   "display_name": "Python 3.8.9 ('env': venv)",
   "language": "python",
   "name": "python3"
  },
  "language_info": {
   "codemirror_mode": {
    "name": "ipython",
    "version": 3
   },
   "file_extension": ".py",
   "mimetype": "text/x-python",
   "name": "python",
   "nbconvert_exporter": "python",
   "pygments_lexer": "ipython3",
   "version": "3.8.9"
  },
  "orig_nbformat": 4,
  "vscode": {
   "interpreter": {
    "hash": "7567341d4109f7d7c109ca0cef11eb54bdf88081d7a72c6faa88d24a2db59b1f"
   }
  }
 },
 "nbformat": 4,
 "nbformat_minor": 2
}
