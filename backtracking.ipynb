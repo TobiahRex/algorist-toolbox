{
 "cells": [
  {
   "cell_type": "markdown",
   "metadata": {},
   "source": [
    "### Backtracking\n",
    "A way to produce all possible outcomes of a given situation.\n",
    "- Typical Problems\n",
    "    * N-Queen Problems\n",
    "    * Sudoku\n",
    "    * Sum of subset\n",
    "    * All possible combinations of size N\n",
    "    * Graph Coloring Problem\n",
    "    * Hamiltonian Cycle\n",
    "\n",
    "### Key Takeaways\n",
    "- The technique is almost always using __Depth-First-Search__ approach to create a tree of possibilities which is primarily concerned with _all possible solutions_.\n",
    "- The brother-technique that uses __Breadth-First-Search__ is called _Branch-and-Bound_ which is primarily concerned with _optimization_.\n",
    "- Typically the tree will have some __Bounding Function__ that causes the exploration of the tree to be short-circuited.\n",
    "- A __State Space Tree__ can be extremely helpful in finding the __Bounding Function__ for a Backtracking problem.\n",
    "- Some Backtracking problems are similar in problem description to Optimization problems where Dynamic Programming is often the best Tool.\n",
    "- Backtracking is exclusively interested in finding all possible outcomes given a situation.\n",
    "- The constraints of the situation are outlined in the __Bounding Function__\n",
    "- The constraints will also have an effect on the worst-case-time complexity and can help create an asymptotically-tighter definition.\n",
    "\n",
    "### Time Complexities\n",
    "Always remember that the Time-Complexity of any Tree is *#-of-branches* ^ *depth-of-tree*. `2^n` (2-choices == # of branches), `3^n` (3-choices == # of branches) etc.\n",
    "- Additional layers of complexity can be overlayed upon this general rule, to arrive at asymptotically tighter-bound definitions. But that formula will get you the worst-case in almost every problem.\n",
    "- __State-space-tree__ is the best tool to intuitively describe the Time-Complexity of a problem during an Interview.\n",
    "[SHOW state-space-tree IMAGE: <img src=\"\">]\n",
    "- The tree will provide the raw-material to distribute the tree levels in a format that can be converted into a mathematical-formula to justify your Time-Complexity.\n",
    "\n",
    "### Problem-Solving Techniques\n",
    "1. To algorithmically build a __State Space Tree__ we use **recursion**.\n",
    "2. The recurrence relation will have one or two changing variables. Intuitively these variables will correspond to a binomial-expression. Thinking back to `nCk` problems, we know how to produce `nCk` possibilities using the recurrence `nCk(n - 1, k) + nCk(n - 1, k - 1)` which looks an awful lot, like `(a + b)^2`. How this is all helpful is to realize that any recurrence relation is equal to the sum of smaller recurring expressions. e.g. `T(n) = T(n-1)^2 + T(n-2)^2`.\n",
    "2. To generate a variable list of branches per-tree level, we can immediately conceptualize 2 key attributes of our final solution:\n",
    "    1. We'll need a for-loop. For example if L1 has 4 choices, but L2 has 3 choices, and L3 has 2 choices; then we should immediately consider using a dynmically-sized for-loop within our function.\n",
    "        - *NOTE* To Asymptotically conceptualize this for worst-case definition, we should take the average of the loops length and consider that to be the *#-of-branches* in the tree. As for *depth-of-tree*; another variable will determine the depth of the tree.\n",
    "    2. We'll need at least 2 dynamic variables;\n",
    "        - One variable will call the next tree depth\n",
    "        - One variable will determine the loop's to execute per tree-level.\n",
    "3. If the solution has a **fixed size**, and we're trying to find all possible solutions of that size, we can use the **slate** pattern. An optimization of the slate pattern, is to use a slate-divider atop the input variables to articuluate which numbers have been \"chosen\" in the tree, and which have not. See `count_subsets_of_size_n.ipynb`."
   ]
  }
 ],
 "metadata": {
  "kernelspec": {
   "display_name": "Python 3.8.9 ('env': venv)",
   "language": "python",
   "name": "python3"
  },
  "language_info": {
   "name": "python",
   "version": "3.8.9"
  },
  "orig_nbformat": 4,
  "vscode": {
   "interpreter": {
    "hash": "7567341d4109f7d7c109ca0cef11eb54bdf88081d7a72c6faa88d24a2db59b1f"
   }
  }
 },
 "nbformat": 4,
 "nbformat_minor": 2
}
