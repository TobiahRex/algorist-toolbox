{
 "cells": [
  {
   "cell_type": "markdown",
   "metadata": {},
   "source": [
    "### Counting Unique Sets\n",
    "> Given a number denoting the size of a set, count the number of unique subsets of that set.\n",
    "\n",
    "These types of problems:\n",
    "    - counting the # of sets\n",
    "    - # of permutations\n",
    "    - # of sub-groups given a larger group\n",
    "\n",
    "Are all problems having to deal with __Binomials__.\n",
    "\n",
    "#### Intuition of Binomials.\n",
    "1. Example: A parent wants to know the probability of of having 3 girls and 2 boys.\n",
    "    - The *bi* in *bi-nomial* refers to 2 possible variables; in this case, a = girls, b = boys. Therefore, to calculate the probability, we'd take the bi-nomial of (A + B)^5. The `5` denotes the # of desired children.  \n",
    "    - If we were to distribute this function out, we'd get a series of bi-nomial expressions. The co-efficients of these expressions can be considered the *weight* of that particular expression in relationship to all it's partner expressions; which is intuitive. \n",
    "    - If we were to take the ratio of the expression that maps to A^3 (3 girls), we'd see the coefficient 10 standing next to it. We take the 10 and divide by the sum of all coefficients and get 32, so the probability is 10 / 32.\n",
    "    - The entire expression looks like:\n",
    "        ```python\n",
    "        1(a^5) + 5(a^4 b) + 10(a^3 b^2) + 10(a^2 b^3) + 5(a b^4) + 1(b^5)\n",
    "        ```\n",
    "2. Example: A group of 12 friends want to play basketball, and you have to choose 5 members only. How many different groups of 5 can you choose, from a collection of 12?\n",
    "    - The answer can be expressed as \"12 choose 5\"\n",
    "    - Using the __Binomial Theorem: Expansion Formula__ (see above), we can come to the answer `792`."
   ]
  },
  {
   "cell_type": "code",
   "execution_count": null,
   "metadata": {},
   "outputs": [],
   "source": [
    "# not real code\n",
    "def binomial_theorem(n):\n",
    "    for k in range(0, n):\n",
    "            (n! \\\n",
    "        / [(n-k)!*k!]) * (a^n-k)(b^k)"
   ]
  },
  {
   "cell_type": "markdown",
   "metadata": {},
   "source": [
    "2. ...\n",
    "    - <img src=\"https://imgur.com/52Og7Ff.png\" style=\"max-width:500px\">\n",
    "    - **NOTE** second `k` in denominator should be `k!`\n",
    "    - For some problems, we can remove the outter loop and simply think of the **Binomial Theorem** without the _expansion_.\n",
    "3. Binomial expression are actually the fundamental building block of __Pascals Triangle__.\n",
    "    - The coefficients of different binomial degree's are stacked atop eachother at exponents corresponding to deeper tree levels.\n",
    "    <img src=\"https://imgur.com/nfY3nFm.png\" style=\"max-width:500px\">\n",
    "\n",
    "#### Problem Solving w/Binomials\n",
    "The trick of all this mathematical background is to figure out how we can make all that theory work for us given a problem type.  So let's see if we can define some re-usable **tools** from it all.\n",
    "- When we want to know how many sub-groups we can make from a larger group, we're wanting a single expression from a Bi-nomial Expansion formula. Further, we're actually asking for a specific co-efficient from the binomial expansion.\n",
    "- Using the team-problem (choose 5 members from group of 12), we're actually not needing the \"nomial\" so we can assign it a value of 1 that effectively removes it from our consciousness for a lot of problems.\n",
    "- If we're dealing with problems in terms of probability between choosing one-category more than another, then we can re-introduce those \"nomials\" and consider them in our algorithm such as having 3 girls and 2 boys. Briefly to expand\n",
    "this example - we could think of a \"bi-nomial\" expression as `a` equaling the group we're targeting or want, and `b` as the group we're negating, or don't want.\n",
    "- So, it's important to understand how the sum of coefficients for the N'th level in Pascals triangle sum to 2^n. See diagram.\n",
    "- Given that this expression looks a lot like a \"Tree\" we can quickly arrive at the realization that anytime we double the amount of work we do if we increase our input by 1 unit, we have to double the count of work we do.\n",
    "\n",
    "#### Calculating nCr\n",
    "The recurrence relation to generate a node in Pascals triangle is shown below."
   ]
  },
  {
   "cell_type": "markdown",
   "metadata": {},
   "source": [
    "The tracing tree for this solution is as follow\n",
    "\n",
    "<img src=\"https://imgur.com/ITDyatB.png\" style=\"max-width:500px\">"
   ]
  },
  {
   "cell_type": "code",
   "execution_count": 2,
   "metadata": {},
   "outputs": [
    {
     "name": "stdout",
     "output_type": "stream",
     "text": [
      "4 choose 2 =  6\n"
     ]
    }
   ],
   "source": [
    "def nCk(n, k):\n",
    "    if any([n == k, k == 0]):\n",
    "        return 1\n",
    "    left_tree = nCk(n - 1, k)\n",
    "    right_tree = nCk(n - 1, k - 1)\n",
    "    return left_tree + right_tree\n",
    "\n",
    "n = 4\n",
    "k = 2\n",
    "print(f'{n} choose {k} = ', nCk(n, k))"
   ]
  },
  {
   "cell_type": "markdown",
   "metadata": {},
   "source": [
    "The intuition is fairly concrete: We're taking advantage of the mathematical identity that any combination is defined as a sum of the subsets of the combination.\n",
    "What's interesting as well is if you flip the tracing tree upside down, you can sort of get a sense of how this solution is replicating Pascals Triangle (roughly speaking).\n",
    "<img src=\"https://imgur.com/UWiBTmh.png\" style=\"max-width:500px\">\n",
    "\n",
    "\n",
    "##### Apply Pascals Triangle to Problem\n",
    "So to solve this particular problem, we need to take the sum of an entire tree level in Pascals Triangle.  This would be the same as taking the sum of the coefficients."
   ]
  },
  {
   "cell_type": "code",
   "execution_count": 13,
   "metadata": {},
   "outputs": [
    {
     "name": "stdout",
     "output_type": "stream",
     "text": [
      "Unique Sets for size 4 =  47\n"
     ]
    }
   ],
   "source": [
    "def sum_of_unique_sets(size):\n",
    "    def nCk(n, k):\n",
    "        if any([n == k, n == 0]):\n",
    "            return 1\n",
    "        return nCk(n - 1, k) + nCk(n - 1, k - 1)\n",
    "    total = 0\n",
    "    for i in range(1, size):\n",
    "        total += nCk(size, i)\n",
    "    return total\n",
    "\n",
    "n = 4\n",
    "print(f'Unique Sets for size {n} = ', sum_of_unique_sets(n))"
   ]
  },
  {
   "cell_type": "markdown",
   "metadata": {},
   "source": [
    "Unfortunately, this solution has the problem of being O(n * n!)\n",
    "\n",
    "There's a mathematical proof that denotes how summing the coefficients for a tree level in Pascals Triangle equates to 2^n. The intuition here, is that each tree level describes all the possibilites of choice given all the choices in the previous occrence (previous tree level). According to the previous level's choices, our current level has taken every choice, and applied a fork to it (+2 choices).  Another way to think of it is using the popular Greek Mythological creature; The Hydra.  When you cut off one head, 2 more grow in it's place.  As for some real-world example, if you're travelling along some path, and you reach a fork in the road, and choose left, you shortly find another fork in the road. If every fork in the road leads to another fork in the road, you're going to inevitably find yourself with 2^n choices.\n",
    "\n",
    "So in essence, this problem is asking us to return 2^n. So we can simply define the soution to the problem as."
   ]
  },
  {
   "cell_type": "code",
   "execution_count": null,
   "metadata": {},
   "outputs": [],
   "source": [
    "def sum_of_unique_sets(size):\n",
    "    return 2 ** size"
   ]
  },
  {
   "cell_type": "markdown",
   "metadata": {},
   "source": [
    "😂\n",
    "\n",
    "Given that this solution probably won't work in an interview, we should think about a smart way to calculate this number recursively.\n",
    "To do that in some way other than Linearly..."
   ]
  },
  {
   "cell_type": "code",
   "execution_count": null,
   "metadata": {},
   "outputs": [],
   "source": [
    "def sum_of_unique_sets(n):\n",
    "    total = 0\n",
    "    for i in range(0, n):\n",
    "        total += (2 ** (i + 1))"
   ]
  },
  {
   "cell_type": "markdown",
   "metadata": {},
   "source": [
    "We could try to do it logarithmically. To do that we have to distribute 2^n into some divisible term such that we can recursively call with a logarithmic time complexity.\n",
    "\n",
    "So `2^n` can be re-written. This is based on the fact that when you multiply exponents together, they as a result are simply added together.\n",
    "`2^n = 2 * (2^n/2 * 2^n/2)` when n is odd and `(n/2)` is the floor division of `n` by 2 and,\n",
    "\n",
    "`2^n = (2^n/2 * 2^n/2)` when n is even.\n",
    "\n",
    "Conceptually, taking half the exponents of some number, means you're reducing the total value of that number by half. 2^3 == 8. But 2^6 == 64. And 8 * 8 == 64. With means, 2^3 * 2^3 == 2^6.\n",
    "But we need to be careful about when n is an odd number as we don't want to loose information by taking half."
   ]
  },
  {
   "cell_type": "code",
   "execution_count": 10,
   "metadata": {},
   "outputs": [
    {
     "name": "stdout",
     "output_type": "stream",
     "text": [
      "16\n"
     ]
    }
   ],
   "source": [
    "def sum_of_unique_sets_LOGn(n):\n",
    "    if n == 0:\n",
    "        return 1\n",
    "    result = sum_of_unique_sets_LOGn(n // 2) ** 2\n",
    "    if n % 2 != 0:\n",
    "        result *= 2\n",
    "    return result\n",
    "\n",
    "print(sum_of_unique_sets_LOGn(4))"
   ]
  }
 ],
 "metadata": {
  "kernelspec": {
   "display_name": "Python 3.8.9 ('env': venv)",
   "language": "python",
   "name": "python3"
  },
  "language_info": {
   "codemirror_mode": {
    "name": "ipython",
    "version": 3
   },
   "file_extension": ".py",
   "mimetype": "text/x-python",
   "name": "python",
   "nbconvert_exporter": "python",
   "pygments_lexer": "ipython3",
   "version": "3.8.9"
  },
  "orig_nbformat": 4,
  "vscode": {
   "interpreter": {
    "hash": "7567341d4109f7d7c109ca0cef11eb54bdf88081d7a72c6faa88d24a2db59b1f"
   }
  }
 },
 "nbformat": 4,
 "nbformat_minor": 2
}
