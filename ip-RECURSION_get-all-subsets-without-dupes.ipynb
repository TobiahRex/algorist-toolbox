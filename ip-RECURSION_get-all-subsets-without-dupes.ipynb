{
 "cells": [
  {
   "cell_type": "markdown",
   "metadata": {},
   "source": [
    "# Get Permutations w/o Duplicates\n",
    "Given an array of numbers with possible duplicates, return all of its permutations in any order without duplicate sets.\n",
    "\n",
    "\n",
    "* Example 1:\n",
    "    - input `\"arr\": [1, 2, 2]`\n",
    "    - output:\n",
    "        ```python\n",
    "        [\n",
    "            [1, 2, 2],\n",
    "            [2, 1, 2],\n",
    "            [2, 2, 1]\n",
    "        ]\n",
    "        ```\n",
    "* Example 2:\n",
    "    - input: `\"arr\": [2, 2, 3, 4]`\n",
    "    - output:\n",
    "        ```python\n",
    "        [\n",
    "            [2, 2, 3, 4],\n",
    "            [2, 2, 4, 3],\n",
    "            [2, 3, 2, 4],\n",
    "            [2, 3, 4, 2],\n",
    "            [2, 4, 3, 2],\n",
    "            [2, 4, 2, 3],\n",
    "            [3, 2, 2, 4],\n",
    "            [3, 2, 4, 2],\n",
    "            [3, 4, 2, 2],\n",
    "            [4, 2, 3, 2],\n",
    "            [4, 2, 2, 3],\n",
    "            [4, 3, 2, 2]\n",
    "        ]\n",
    "        ```"
   ]
  },
  {
   "cell_type": "code",
   "execution_count": 8,
   "metadata": {},
   "outputs": [
    {
     "data": {
      "text/plain": [
       "[[2, 2, 3, 4],\n",
       " [2, 2, 4, 3],\n",
       " [2, 3, 2, 4],\n",
       " [2, 3, 4, 2],\n",
       " [2, 4, 3, 2],\n",
       " [2, 4, 2, 3],\n",
       " [3, 2, 2, 4],\n",
       " [3, 2, 4, 2],\n",
       " [3, 4, 2, 2],\n",
       " [4, 2, 3, 2],\n",
       " [4, 2, 2, 3],\n",
       " [4, 3, 2, 2]]"
      ]
     },
     "execution_count": 8,
     "metadata": {},
     "output_type": "execute_result"
    }
   ],
   "source": [
    "def swap(a, l, r):\n",
    "    a[l], a[r] = a[r], a[l]\n",
    "\n",
    "\n",
    "def get_permutations(arr, n=0, results=[], hmap={}):\n",
    "    if n == len(arr):\n",
    "        hs = hash(tuple(arr))\n",
    "        if hs in hmap:\n",
    "            return results\n",
    "        hmap[hs] = True\n",
    "        results.append(list(arr))\n",
    "        return results\n",
    "    for k in range(n, len(arr)):\n",
    "        swap(arr, n, k)\n",
    "        get_permutations(arr, n+1, results, hmap)\n",
    "        swap(arr, n, k)\n",
    "    return results\n",
    "\n",
    "get_permutations([2, 2, 3, 4])"
   ]
  }
 ],
 "metadata": {
  "kernelspec": {
   "display_name": "Python 3.8.9 ('env': venv)",
   "language": "python",
   "name": "python3"
  },
  "language_info": {
   "codemirror_mode": {
    "name": "ipython",
    "version": 3
   },
   "file_extension": ".py",
   "mimetype": "text/x-python",
   "name": "python",
   "nbconvert_exporter": "python",
   "pygments_lexer": "ipython3",
   "version": "3.8.9"
  },
  "orig_nbformat": 4,
  "vscode": {
   "interpreter": {
    "hash": "7567341d4109f7d7c109ca0cef11eb54bdf88081d7a72c6faa88d24a2db59b1f"
   }
  }
 },
 "nbformat": 4,
 "nbformat_minor": 2
}
