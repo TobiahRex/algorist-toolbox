{
 "cells": [
  {
   "cell_type": "markdown",
   "metadata": {},
   "source": [
    "# Trees: Binary Trees (BT)\n",
    "It's a dictionary in an Abstract Data Structure (ADT)\n",
    "\n",
    "## Create Binary-Tree\n",
    "It's a Heap, but where a Heap isn't concerned with it's value relative to it's siblings (only its parent), a BST is concerned with it's value relative to it's siblings and it's parent.\n",
    "\n",
    "1. Exists as an Array or Linked List.\n",
    "2. Search: Big-Oh(N)"
   ]
  },
  {
   "cell_type": "code",
   "execution_count": null,
   "metadata": {},
   "outputs": [],
   "source": [
    "def bst_search(tree, target):\n",
    "    i = 0\n",
    "    current = tree[i]\n",
    "    while current:\n",
    "        left = 2*i+1\n",
    "        right = 2*i+1\n",
    "        if target == current:\n",
    "            return True\n",
    "        if current > target:\n",
    "            current = tree[left]\n",
    "        elif current < target:\n",
    "            current = tree[right]\n",
    "        i += 1\n",
    "    return False"
   ]
  },
  {
   "cell_type": "markdown",
   "metadata": {},
   "source": [
    "2. cont'd | We're looking for a target value by iterating through the tree's branches looking for the target value.\n",
    "3. Insert: Big-Oh(Log(n)) | However, we wouldn't want to store a BST into an Array if we're going to be implementing Insert capabilities, since inserting into a list, has the __worst case time__ of Big-Oh(n): if we insert into index 0, then we have to shift n elements to the right. So we should store a BST into a _Linked List_ if we're allowing insert operations since moving pointers can be done in Theta(1) time, and Big-Oh(Log(n)) time to find the right spot to insert."
   ]
  },
  {
   "cell_type": "code",
   "execution_count": 59,
   "metadata": {},
   "outputs": [],
   "source": [
    "from collections import deque as Queue\n",
    "\n",
    "class TreeNode:\n",
    "    def __init__(self, value: any):\n",
    "        self.value = value\n",
    "        self.left = None\n",
    "        self.right = None\n",
    "\n",
    "    def level_order_traversal(self):\n",
    "        q = Queue([self])\n",
    "        while q:\n",
    "            level_nodes = []\n",
    "            for i in range(0, len(q)):\n",
    "                node = q.popleft()\n",
    "                if node.left:\n",
    "                    q.append(node.left)\n",
    "                if node.right:\n",
    "                    q.append(node.right)\n",
    "                level_nodes.append(node.value)\n",
    "            print(level_nodes)"
   ]
  },
  {
   "cell_type": "code",
   "execution_count": 60,
   "metadata": {},
   "outputs": [],
   "source": [
    "def insert(root: TreeNode = None, v: any = None):\n",
    "    new_node = TreeNode(v)\n",
    "    if not root:\n",
    "        return new_node\n",
    "    current = root\n",
    "    parent = root\n",
    "    while current:\n",
    "        parent = current\n",
    "        if new_node.value == current.value:\n",
    "            return False # Already exists: can't have duplicates\n",
    "        if new_node.value < current.value:\n",
    "            current = current.left\n",
    "        else:\n",
    "            current = current.right\n",
    "    if parent.value < new_node.value:\n",
    "        parent.right = new_node\n",
    "    else:\n",
    "        parent.left = new_node\n",
    "    return root\n",
    "\n",
    "def build_bst(values):\n",
    "    root = None\n",
    "    for v in values:\n",
    "        root = insert(root, v)\n",
    "    return root\n",
    "root = build_bst([7, 5, 9, 8, 6, 10, 3, 1])"
   ]
  },
  {
   "cell_type": "code",
   "execution_count": 61,
   "metadata": {},
   "outputs": [
    {
     "name": "stdout",
     "output_type": "stream",
     "text": [
      "[7]\n",
      "[5, 9]\n",
      "[3, 6, 8, 10]\n",
      "[1]\n"
     ]
    }
   ],
   "source": [
    "root.level_order_traversal()"
   ]
  },
  {
   "cell_type": "markdown",
   "metadata": {},
   "source": []
  },
  {
   "cell_type": "markdown",
   "metadata": {},
   "source": [
    "* This method of inserting into a tree creates a one-degree tree.  If we want to create a tree with an even distribution of nodes across all levels, then we need a _Queue_.\n",
    "* We'll expect to be given a list of values, and should be inserted into the tree.\n",
    "* We'll use the typical left-child, right-child index algorithm to assign them to their respective locations.\n",
    "    - 2 * i + 1 = Left Child to the i'th Node\n",
    "    - 2 * i + 2 = Right Child to the i'th Node"
   ]
  },
  {
   "cell_type": "code",
   "execution_count": 66,
   "metadata": {},
   "outputs": [
    {
     "name": "stdout",
     "output_type": "stream",
     "text": [
      "[1]\n",
      "[2, 3]\n",
      "[4, 5, 6, 7]\n",
      "\n",
      "----------\n",
      "[7]\n",
      "[5, 9]\n",
      "[8, 6, 10, 3]\n"
     ]
    }
   ],
   "source": [
    "from collections import deque as queue\n",
    "\n",
    "\n",
    "def build_a_bst_from_sorted_list(values):\n",
    "    root = TreeNode(values[0])\n",
    "    q = queue()\n",
    "    q.append(root)\n",
    "    i = 0\n",
    "    while q:\n",
    "        node = q.popleft()\n",
    "        li = 2 * i + 1\n",
    "        ri = 2 * i + 2\n",
    "        if li < len(values):\n",
    "            node.left = TreeNode(values[li])\n",
    "            q.append(node.left)\n",
    "        if ri < len(values):\n",
    "            node.right = TreeNode(values[ri])\n",
    "            q.append(node.right)\n",
    "        i += 1\n",
    "    return root\n",
    "root = build_a_bst_from_sorted_list([1, 2, 3, 4, 5, 6, 7])\n",
    "root.level_order_traversal()\n",
    "print('\\n----------')\n",
    "root = build_a_bst_from_sorted_list([7, 5, 9, 8, 6, 10, 3])\n",
    "root.level_order_traversal()"
   ]
  },
  {
   "cell_type": "markdown",
   "metadata": {},
   "source": [
    "* The approach above will only work if the input is a sorted list. It will create as perfectly balanced a Binary tree as possible. It should be noted this method is using the same technique we use to traverse as BFS.\n",
    "\n",
    "------------------------------------\n",
    "\n",
    "## Create Binary-Tree from Lists\n",
    "* We can create a Binary-Tree from a list of pre-order, and in-order lists.\n",
    "* _Pre-Order_ tells us the sequence by which we should create each node.\n",
    "* _In-Order_ tells us which node's are left and right children of each node.\n",
    "* **Control Flow**\n",
    "    1. Pick the left-most node in from the _Pre-Order_ list. This will be the next root we build.\n",
    "    2. Search the _In-Order_ list for the value from step 1.\n",
    "    3. Once we have the index from the _In-Order_ list we can look to 1-index for the left child, and 1+index for the right child.\n",
    "        - If the index 1 unit away does not exist, then we know that child is not defined.\n",
    "    4. We use the same setup as Level-Order traversal; using a Queue to enqueue nodes after they're created. The Intuition is that once a node is created, it's immediately attached to it's parent and then enqueued. Once it's de-queued it's children are attached to it, and we no longer need to worry about that particular node."
   ]
  },
  {
   "cell_type": "code",
   "execution_count": 56,
   "metadata": {},
   "outputs": [
    {
     "name": "stdout",
     "output_type": "stream",
     "text": [
      "[3]\n",
      "[9, 20]\n",
      "[15, 7]\n",
      "\n",
      "---------\n",
      "[8]\n",
      "[5, 10]\n",
      "[3, 9, 12]\n",
      "[2]\n"
     ]
    }
   ],
   "source": [
    "def memoize(memo, some_list):\n",
    "    map = {}\n",
    "    for i, val in enumerate(some_list):\n",
    "        map[val] = i\n",
    "    return map\n",
    "\n",
    "def build_tree_from_traversal_lists(pre_order, in_order, io_map=None, pre_start=0, pre_end=None, in_start=0, in_end=None):\n",
    "    if io_map is None:\n",
    "        io_map = memoize(io_map, in_order)\n",
    "        pre_end = len(pre_order) - 1\n",
    "        in_end = len(in_order) - 1\n",
    "    if pre_start > pre_end: return\n",
    "    v = pre_order[pre_start]\n",
    "    if pre_start == pre_end:\n",
    "        return TreeNode(v)  # leaf\n",
    "    root_ix = io_map.get(v)\n",
    "    count = root_ix - in_start\n",
    "    root = TreeNode(v)\n",
    "    root.left = build_tree_from_traversal_lists(pre_order, in_order, io_map,\n",
    "                                                pre_start + 1, pre_start + count, in_start, root_ix - 1)\n",
    "    root.right = build_tree_from_traversal_lists(pre_order, in_order, io_map,\n",
    "                                                 pre_start + count + 1, pre_end, root_ix + 1, in_end)\n",
    "    return root\n",
    "root = build_tree_from_traversal_lists(pre_order=[3, 9, 20, 15, 7], in_order=[9, 3, 15, 20, 7])\n",
    "root.level_order_traversal()\n",
    "print('\\n---------')\n",
    "root = build_tree_from_traversal_lists(pre_order=[8, 5, 3, 2, 10, 9, 12], in_order=[2, 3, 5, 8, 9, 10, 12])\n",
    "root.level_order_traversal()"
   ]
  }
 ],
 "metadata": {
  "kernelspec": {
   "display_name": "Python 3.8.9 ('env': venv)",
   "language": "python",
   "name": "python3"
  },
  "language_info": {
   "codemirror_mode": {
    "name": "ipython",
    "version": 3
   },
   "file_extension": ".py",
   "mimetype": "text/x-python",
   "name": "python",
   "nbconvert_exporter": "python",
   "pygments_lexer": "ipython3",
   "version": "3.8.9"
  },
  "orig_nbformat": 4,
  "vscode": {
   "interpreter": {
    "hash": "7567341d4109f7d7c109ca0cef11eb54bdf88081d7a72c6faa88d24a2db59b1f"
   }
  }
 },
 "nbformat": 4,
 "nbformat_minor": 2
}
