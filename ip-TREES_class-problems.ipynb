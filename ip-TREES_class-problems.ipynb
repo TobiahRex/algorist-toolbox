{
 "cells": [
  {
   "cell_type": "markdown",
   "metadata": {},
   "source": [
    "# Class Problems\n",
    "\n",
    "## Is Bst?\n",
    "* Given a tree root, determine if it's a BST.\n",
    "    - For any node, it's left subtree is less than it's value.\n",
    "    - For any node, it's right subtree is greater than it's value."
   ]
  },
  {
   "cell_type": "code",
   "execution_count": 8,
   "metadata": {},
   "outputs": [],
   "source": [
    "from binary_tree import BST"
   ]
  },
  {
   "cell_type": "code",
   "execution_count": 9,
   "metadata": {},
   "outputs": [
    {
     "name": "stdout",
     "output_type": "stream",
     "text": [
      "False\n"
     ]
    }
   ],
   "source": [
    "def is_bst(root):\n",
    "    if not root:\n",
    "        return True\n",
    "    stack = []\n",
    "    prev = None\n",
    "    last_max = float('-inf')\n",
    "    last_min = float('inf')\n",
    "    while root or stack:\n",
    "        if root:\n",
    "            stack.append(root)\n",
    "            root = root.left\n",
    "        else:\n",
    "            root = stack[-1]\n",
    "            if root.right is None or root.right is prev:\n",
    "                node = stack.pop()\n",
    "                if any([\n",
    "                    node.value < last_min,\n",
    "                    node.value > last_max,\n",
    "                    node.left and node.value < node.left.value,\n",
    "                    node.right and node.value > node.right.value\n",
    "                ]):\n",
    "                    return False\n",
    "                last_max = max(last_max, node.right.value if node.right else node.value)\n",
    "                last_min = min(last_min, node.left.value if node.left else node.value )\n",
    "                prev = root\n",
    "                root = None\n",
    "            else:\n",
    "                root = root.right\n",
    "    return True\n",
    "\n",
    "bst = BST.build([300, 200, 400, 100, 400])\n",
    "result = is_bst(bst.root)\n",
    "print('True' if result else 'False')"
   ]
  }
 ],
 "metadata": {
  "kernelspec": {
   "display_name": "Python 3.8.9 ('env': venv)",
   "language": "python",
   "name": "python3"
  },
  "language_info": {
   "codemirror_mode": {
    "name": "ipython",
    "version": 3
   },
   "file_extension": ".py",
   "mimetype": "text/x-python",
   "name": "python",
   "nbconvert_exporter": "python",
   "pygments_lexer": "ipython3",
   "version": "3.8.9"
  },
  "orig_nbformat": 4,
  "vscode": {
   "interpreter": {
    "hash": "7567341d4109f7d7c109ca0cef11eb54bdf88081d7a72c6faa88d24a2db59b1f"
   }
  }
 },
 "nbformat": 4,
 "nbformat_minor": 2
}
