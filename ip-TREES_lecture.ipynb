{
 "cells": [
  {
   "cell_type": "markdown",
   "metadata": {},
   "source": [
    "# Binary Trees\n",
    "\n",
    "------------------------\n",
    "## Level-Order Traversal\n",
    "\n",
    "* Collect an array of results for each level.\n",
    "* Iterate while the Q is not empty\n",
    "    - Iterate the length of the Q at the moment you start iterating the first time.\n",
    "      The length is the entire contents of the current level.\n",
    "    - Pop from the Q, and if it has L || R children, add those children to the Queue. They are the next-level's results.\n",
    "    - Append the node's value to the current level result.\n",
    "    - After iterating, save the level results.\n",
    "* Return all results"
   ]
  },
  {
   "cell_type": "code",
   "execution_count": null,
   "metadata": {},
   "outputs": [],
   "source": [
    "from collections import deque as Queue\n",
    "\n",
    "class TreeNode:\n",
    "    def __init__(self, value: any):\n",
    "        self.value = value\n",
    "        self.left = None\n",
    "        self.right = None\n",
    "\n",
    "    def level_order_traversal(self):\n",
    "        q = Queue([self])\n",
    "        while q:\n",
    "            level_nodes = []\n",
    "            for i in range(0, len(q)):\n",
    "                node = q.popleft()\n",
    "                if node.left:\n",
    "                    q.append(node.left)\n",
    "                if node.right:\n",
    "                    q.append(node.right)\n",
    "                level_nodes.append(node.value)\n",
    "            print(level_nodes)"
   ]
  },
  {
   "cell_type": "code",
   "execution_count": null,
   "metadata": {},
   "outputs": [],
   "source": [
    "from collections import deque\n",
    "\n",
    "def get_level_order(root):\n",
    "    results = []\n",
    "    if not root: return results\n",
    "    q = deque([root])\n",
    "    while q:\n",
    "        level_result = []\n",
    "        for i in range(0, len(q)):\n",
    "            node = q.popleft()\n",
    "            level_result.append(node.value)\n",
    "            [q.append(n) for n in [node.left, node.right] if n]\n",
    "        results.append(level_result)\n",
    "    return results"
   ]
  },
  {
   "cell_type": "markdown",
   "metadata": {},
   "source": [
    "--------------------\n",
    "## N-ary Level-Order Traversal\n",
    "\n",
    "* Collect an array of results for each level.\n",
    "* Iterate while the Q is not empty\n",
    "    - Iterate the length of the Q at the moment you start iterating the first time.\n",
    "      The length is the entire contents of the current level.\n",
    "    - Pop from the Q, and if it has any children,\n",
    "        - Iterate again, and add all the children to the Queue. They are the next-level's results.\n",
    "    - Append the node's value to the current level result.\n",
    "    - After iterating, save the level results.\n",
    "* Return all results"
   ]
  },
  {
   "cell_type": "code",
   "execution_count": null,
   "metadata": {},
   "outputs": [],
   "source": [
    "from collections import deque\n",
    "\n",
    "def get_level_order_Nary(root):\n",
    "    results = []\n",
    "    if not root: return results\n",
    "    q = deque([root])\n",
    "    while q:\n",
    "        level_result = []\n",
    "        for i in range(0, len(q)):\n",
    "            node = q.popleft()\n",
    "            level_result.append(node.value)\n",
    "            [q.append(n) for n in node.children if n]\n",
    "        results.append(level_result)\n",
    "    return results"
   ]
  },
  {
   "cell_type": "markdown",
   "metadata": {},
   "source": [
    "-------------------------\n",
    "## ZigZag Level-Order Traversal\n",
    "\n",
    "* Same as _Level-Order_, however we have to reverse the results on a level-by level basis."
   ]
  },
  {
   "cell_type": "code",
   "execution_count": null,
   "metadata": {},
   "outputs": [],
   "source": [
    "from collections import deque\n",
    "\n",
    "def get_zigZig_level_order(root):\n",
    "    results = []\n",
    "    if not root: return results\n",
    "    q = deque([root])\n",
    "    while q:\n",
    "        level_result = []\n",
    "        for i in range(0, len(q)):\n",
    "            node = q.popleft()\n",
    "            level_result.append(node.value)\n",
    "            [q.append(n) for n in [node.left, node.right] if n]\n",
    "        level_result.reverse()\n",
    "        results.append(level_result)\n",
    "    return results"
   ]
  },
  {
   "cell_type": "markdown",
   "metadata": {},
   "source": [
    "------------------------------\n",
    "## Get Right Side View\n",
    "\n",
    "* We again use Level-Order traversal, but when we append to results, we only append after traversing the entire level.\n",
    "* The last node at the level is the node we want to save the value for as that level's result."
   ]
  },
  {
   "cell_type": "code",
   "execution_count": null,
   "metadata": {},
   "outputs": [],
   "source": [
    "from collections import deque\n",
    "\n",
    "def get_right_side_view(root):\n",
    "    results = []\n",
    "    if not root:\n",
    "        return results\n",
    "    q = deque([root])\n",
    "    while q:\n",
    "        node = None\n",
    "        for i in range(0, len(q)):\n",
    "            node = q.pop()\n",
    "            [q.appendleft(n) for n in [node.left, node.right] if n]\n",
    "        results.append(node.value)\n",
    "    return results"
   ]
  },
  {
   "cell_type": "markdown",
   "metadata": {},
   "source": [
    "------------------\n",
    "## Level-Order Botom-Up\n",
    "\n",
    "* Simpy return the final results of a typical level-order traversal."
   ]
  },
  {
   "cell_type": "code",
   "execution_count": 6,
   "metadata": {},
   "outputs": [],
   "source": [
    "from collections import deque\n",
    "\n",
    "def level_order_bottom_up(root):\n",
    "    results = []\n",
    "    if not root:\n",
    "        return results\n",
    "    q = deque([root])\n",
    "    while q:\n",
    "        level_result = []\n",
    "        for i in range(0, len(q)):\n",
    "            node = q.pop()\n",
    "            [q.appendleft(n) for n in [node.right, node.left] if n]\n",
    "            level_result.append(node.value)\n",
    "        results.append(level_result)\n",
    "    results.reverse()\n",
    "    return results"
   ]
  },
  {
   "cell_type": "markdown",
   "metadata": {},
   "source": [
    "---------------------\n",
    "## Has Path Sum 1 | easy\n",
    "\n",
    "* We'll keep track of the remainder after subtracting a node's value from the target value.\n",
    "* We'll solve this problem using an iterative approach. The code-structure is the same as everything we've looked at so far, except this time, we're using a _Stack_ not a _Queue_.\n",
    "* Also, we're taking extra pre-caution to **append** the **right** node **first**, rather than the second due to using a _stack_, as we want to **pop** off the **left** node **before** the **right** node.\n",
    "* The last trick in this solution is to save the running total at a node, onto the stack as a tuple with the node's value.\n",
    "\n",
    "### Time & Space Complexity\n",
    "* Time:\n",
    "    * Big-Oh(N) | In case of an unbalanced tree where every node is a single child of another node.\n",
    "    * Omega(log(N)) | In case of a well balanced tree.\n",
    "* Space:\n",
    "    * Omega(1) | In case of an unbalanced tree where every node is a single child of another node: we'd append and pop the next node immediately. Meaning, our Stack only ever grows to size 1.\n",
    "    * Big-Oh(log(N)) | In case of a well balanced tree, we'd go so far as the max-depth: N/2 nodes deep.\n",
    "    * In case of a skewed tree, where perhaps the Left-Side is deeper than the Right-Side, we'd take the lower-bound as N/2 nodes and the upper-bound as N nodes deep. But as we've already mentioned, if the Tree has only one child at some very deep level; N-nodes deep, then the stack immediately pushes and pops it off the stack. So the Lower bound becomes Omega(1) & Upper bound becomes Big-Oh(log(N)) - same as Time Complexity.\n",
    "    * Since the Best & Worst case are not tightly bound, then we cannot define the Average Case."
   ]
  },
  {
   "cell_type": "code",
   "execution_count": null,
   "metadata": {},
   "outputs": [],
   "source": [
    "def has_path_sum(root, target):\n",
    "    if not root:\n",
    "        return False\n",
    "    stack = [(root, target - root.value)]\n",
    "    while stack:\n",
    "        node, _total = stack.pop()\n",
    "        [stack.append((n, _total - n.value))\n",
    "         for n in [node.right, node.left] if n]\n",
    "        if node.left is None and node.right is None:\n",
    "            if _total == 0:\n",
    "                return True\n",
    "    return False"
   ]
  },
  {
   "cell_type": "markdown",
   "metadata": {},
   "source": [
    "---------------------\n",
    "## Has Path Sum 2 | medium\n",
    "\n",
    "* We'll solve this one using an iterative solution + a stack to emulate DFS.\n",
    "* It's worth noting how the iterative _Stack_ supplements the recursive _call stack_ in almost the same way. If this were a recursive solution, we'd use a Bottom-up approach to find the path we took to eventually get the sum we were looking for. Since we're doing this iteratively, we'll instead need to save the path in a top-down approach by appending the next node's value to a string delimited by underscores; not `-` since they could be mixed up with negative integer node values.\n",
    "\n",
    "### Time & Space Complexity:\n",
    "* Time:\n",
    "    * Big-Oh(N) | In case of an unbalanced tree where every node is a single child of another node.\n",
    "    * Omega(log(N)) | In case of a well balanced tree.\n",
    "* Space:\n",
    "    * _Stack_ = Big-Oh(Log(N))\n",
    "    * _Path-String_ : We're concatenating to this string each time we **pop** from the stack, so as the _Path-String_ get's longer and longer, we're pushing & popping from the Stack as an equal ratio. So at worst-case, the tree is unbalanced, \n"
   ]
  },
  {
   "cell_type": "code",
   "execution_count": null,
   "metadata": {},
   "outputs": [],
   "source": [
    "def path_sum_II(root, target):\n",
    "    results = []\n",
    "    if not root:\n",
    "        return False\n",
    "    stack = [(root, target - root.value, f'{root.value}')]\n",
    "    while stack:\n",
    "        node, _target, path = stack.pop()\n",
    "        if node.left is None and node.right is None:\n",
    "            if _target == 0:\n",
    "                path += f'_{node.value}'\n",
    "                results.append(path.split('_'))\n",
    "        for n in [node.right, node.left]:\n",
    "            if not n: continue\n",
    "            stack.append(n, _target - n.value, path + f'_{n.value}')"
   ]
  },
  {
   "cell_type": "markdown",
   "metadata": {},
   "source": [
    "------------------------------------\n",
    "## Diameter of Binary Tree\n",
    "\n",
    "* _Diameter_ = The longest path in a Tree: The path does not **need** to pass thru the root node.\n",
    "* The easiest strategy here is to use a Bottom-Up recursive approach. Choosing a random node in the tree, and asking it's left child: \"What is your oldest ancestor? (deepest node)\" then asking the same question to the right child, and returning the maximum of the 2 numbers.\n",
    "* A more difficult approach would be to use a Post-Order Traversal pattern, in an iterative structure, and track the maximum distance between one-leaf node and another.  For example, \n",
    "    * if we have 4 leaf nodes: A, B, C, D.\n",
    "        * A to B is 5 nodes.\n",
    "        * B to C is 10 nodes\n",
    "        * C to D is 3 nodes.\n",
    "        * D to A is 15 nodes.\n",
    "    * We can make a few general observations that will help us:\n",
    "        * There must exist a path from any leaf, to any other leaf.\n",
    "        * The longest path must begin and end at a leaf."
   ]
  },
  {
   "cell_type": "code",
   "execution_count": null,
   "metadata": {},
   "outputs": [],
   "source": [
    "def diameter_of_binary_tree(root):\n",
    "    if not root: return 0\n",
    "    _max = None\n",
    "    stack = [root]\n",
    "    root_to_leaf = 1\n",
    "    leaf_to_leaf = 0\n",
    "    while stack:\n",
    "        node = stack.pop()\n",
    "        if node.left is None and node.right is None:\n",
    "            if _max is None:\n",
    "                _max = root_to_leaf\n",
    "            else:\n",
    "                _max = max(_max, leaf_to_leaf)\n",
    "        elif _max is None:\n",
    "            root_to_leaf += 1\n",
    "        else:\n",
    "            leaf_to_leaf += 1\n",
    "        if node.right:\n",
    "            stack.append(node.right)\n",
    "        if node.left:\n",
    "            stack.append(node.right)\n",
    "    _max = max(_max, leaf_to_leaf)\n",
    "    return _max"
   ]
  }
 ],
 "metadata": {
  "kernelspec": {
   "display_name": "Python 3.8.9 ('env': venv)",
   "language": "python",
   "name": "python3"
  },
  "language_info": {
   "codemirror_mode": {
    "name": "ipython",
    "version": 3
   },
   "file_extension": ".py",
   "mimetype": "text/x-python",
   "name": "python",
   "nbconvert_exporter": "python",
   "pygments_lexer": "ipython3",
   "version": "3.8.9"
  },
  "orig_nbformat": 4,
  "vscode": {
   "interpreter": {
    "hash": "7567341d4109f7d7c109ca0cef11eb54bdf88081d7a72c6faa88d24a2db59b1f"
   }
  }
 },
 "nbformat": 4,
 "nbformat_minor": 2
}
