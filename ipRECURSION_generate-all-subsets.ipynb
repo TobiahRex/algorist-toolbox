{
 "cells": [
  {
   "cell_type": "code",
   "execution_count": 2,
   "metadata": {},
   "outputs": [
    {
     "data": {
      "text/plain": [
       "['']"
      ]
     },
     "execution_count": 2,
     "metadata": {},
     "output_type": "execute_result"
    }
   ],
   "source": [
    "def generate_all_subsets(s, n=0, slate=[], results=[]):\n",
    "    if n == len(s):\n",
    "        if not slate:\n",
    "            slate.append('')\n",
    "        results.append(''.join(slate))\n",
    "        return results\n",
    "    generate_all_subsets(s, n+1, slate, results)\n",
    "    slate.append(s[n])\n",
    "    generate_all_subsets(s, n+1, slate, results)\n",
    "    slate.pop()\n",
    "    return results\n",
    "generate_all_subsets('')"
   ]
  }
 ],
 "metadata": {
  "kernelspec": {
   "display_name": "Python 3.8.9 ('env': venv)",
   "language": "python",
   "name": "python3"
  },
  "language_info": {
   "codemirror_mode": {
    "name": "ipython",
    "version": 3
   },
   "file_extension": ".py",
   "mimetype": "text/x-python",
   "name": "python",
   "nbconvert_exporter": "python",
   "pygments_lexer": "ipython3",
   "version": "3.8.9"
  },
  "orig_nbformat": 4,
  "vscode": {
   "interpreter": {
    "hash": "7567341d4109f7d7c109ca0cef11eb54bdf88081d7a72c6faa88d24a2db59b1f"
   }
  }
 },
 "nbformat": 4,
 "nbformat_minor": 2
}
