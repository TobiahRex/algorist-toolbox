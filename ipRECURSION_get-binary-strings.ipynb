{
 "cells": [
  {
   "cell_type": "markdown",
   "metadata": {},
   "source": [
    "### Problem\n",
    "\n",
    "\n",
    "# Generate Binary Strings\n",
    "Given a number n, generate all possible binary strings of length n.\n",
    "\n",
    "* Example 1:\n",
    "    - Input: `n=3`\n",
    "    - Output: `['000', '001', '010', '011', '100', '101', '110', '111']`\n",
    "* Example: 2:\n",
    "    - Input: `n=5`\n",
    "    - output: `['00', '01', '10', '11']`\n",
    "\n",
    "## Intuition\n",
    "- n-choose-k problem.\n",
    "- We want all coefficients in Pascals triangle at n-Choose-k"
   ]
  },
  {
   "cell_type": "code",
   "execution_count": 9,
   "metadata": {},
   "outputs": [
    {
     "data": {
      "text/plain": [
       "['00', '01', '10', '11']"
      ]
     },
     "execution_count": 9,
     "metadata": {},
     "output_type": "execute_result"
    }
   ],
   "source": [
    "def get_binary_strings(n, slate=[], results=[]):\n",
    "    if n == 0:\n",
    "        results.append(''.join(slate))\n",
    "        return\n",
    "    slate.append('0')\n",
    "    get_binary_strings(n-1, slate, results)\n",
    "    slate.pop()\n",
    "    slate.append('1')\n",
    "    get_binary_strings(n-1, slate, results)\n",
    "    slate.pop()\n",
    "    return results\n",
    "\n",
    "get_binary_strings(2)"
   ]
  }
 ],
 "metadata": {
  "kernelspec": {
   "display_name": "Python 3.8.9 ('env': venv)",
   "language": "python",
   "name": "python3"
  },
  "language_info": {
   "codemirror_mode": {
    "name": "ipython",
    "version": 3
   },
   "file_extension": ".py",
   "mimetype": "text/x-python",
   "name": "python",
   "nbconvert_exporter": "python",
   "pygments_lexer": "ipython3",
   "version": "3.8.9"
  },
  "orig_nbformat": 4,
  "vscode": {
   "interpreter": {
    "hash": "7567341d4109f7d7c109ca0cef11eb54bdf88081d7a72c6faa88d24a2db59b1f"
   }
  }
 },
 "nbformat": 4,
 "nbformat_minor": 2
}
