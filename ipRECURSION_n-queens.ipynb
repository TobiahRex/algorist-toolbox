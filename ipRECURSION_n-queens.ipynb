{
 "cells": [
  {
   "cell_type": "markdown",
   "metadata": {},
   "source": [
    "# N-Queens Problem\n",
    "Given an integer n, find all possible ways to position n queens on an n×n chessboard so that no two queens attack each other. A queen in chess can move horizontally, vertically, or diagonally.\n",
    "\n",
    "Do solve the problem using recursion first even if you see some non-recursive approaches.\n",
    "* Example:\n",
    "    - input: `n = 4`\n",
    "    - output:\n",
    "    ```python\n",
    "    [\n",
    "        [\"--q-\",\n",
    "        \"q---\",\n",
    "        \"---q\",\n",
    "        \"-q--\"],\n",
    "\n",
    "        [\"-q--\",\n",
    "        \"---q\",\n",
    "        \"q---\",\n",
    "        \"--q-\"]\n",
    "    ]\n",
    "    ```\n",
    "    - There are two distinct ways four queens can be positioned on a 4×4 chessboard without attacking each other. The positions may appear in the output in any order. So the same two positions in different order would be another correct output.\n",
    "* **NOTES**:\n",
    "    - The function must return a two-dimensional array of strings representing the arrangements. Size of the array must be m×n where m is the number of distinct arrangements.\n",
    "\n",
    "    - Each string must be n characters long, and the strings' characters may be either q (for a queen) or - (for an empty position on the chessboard). Valid arrangements may appear in the output in any order.\n"
   ]
  },
  {
   "cell_type": "code",
   "execution_count": null,
   "metadata": {},
   "outputs": [],
   "source": [
    "def bad_diagonal(qns_otb, _row, _col, n):\n",
    "    x = _col - 1\n",
    "    y = _row - 1\n",
    "    while y > -1 and x > -1: # North-West diag.\n",
    "        if x in qns_otb and qns_otb.get(x) == y:\n",
    "            return True\n",
    "        x -= 1\n",
    "        y -= 1\n",
    "    x = _col + 1\n",
    "    y = _row - 1\n",
    "    while y > -1 and x < n:  # North-East diag.\n",
    "        if x in qns_otb and qns_otb.get(x) == y:\n",
    "            return True\n",
    "        x += 1\n",
    "        y -= 1\n",
    "    return False\n",
    "\n",
    "def bad_col(qns_otb, _col):\n",
    "    if _col in qns_otb:\n",
    "        return True\n",
    "    return False\n",
    "\n",
    "def find_all_arrangements(n, l=0, slate=[], results=[], qns_otb={}):\n",
    "    if l == n:\n",
    "        result = [''.join(s) for s in slate]\n",
    "        results.append(result)\n",
    "        return results\n",
    "    row = ['-']*n\n",
    "    slate.append(row)\n",
    "    for k in range(0, n):\n",
    "        row[k] = 'q'\n",
    "        if bad_col(qns_otb, k) or bad_diagonal(qns_otb, l, k, n):\n",
    "            row[k] = '-'\n",
    "            continue\n",
    "        qns_otb[k] = l\n",
    "        find_all_arrangements(n, l+1, slate, results, qns_otb)\n",
    "        row[k] = '-'\n",
    "        if qns_otb.get(k) == l:\n",
    "            del qns_otb[k]\n",
    "    if k + 1 == n:\n",
    "        slate.pop()\n",
    "    print()\n",
    "    return results\n",
    "\n",
    "result = find_all_arrangements(4)\n",
    "print(result)\n",
    "\n",
    "\"\"\"\n",
    "  0 1 2 3\n",
    "0 q - - -\n",
    "1 - - q -\n",
    "2 - q - -\n",
    "3 - - - -\n",
    "\n",
    "\"\"\""
   ]
  },
  {
   "cell_type": "code",
   "execution_count": 30,
   "metadata": {},
   "outputs": [
    {
     "name": "stdout",
     "output_type": "stream",
     "text": [
      "00000\n"
     ]
    }
   ],
   "source": [
    "def binary_str(n, slate=''):\n",
    "    if n == 1:\n",
    "        print(slate)\n",
    "        return\n",
    "    binary_str(n-1, slate + '0')"
   ]
  }
 ],
 "metadata": {
  "kernelspec": {
   "display_name": "Python 3.8.9 ('env': venv)",
   "language": "python",
   "name": "python3"
  },
  "language_info": {
   "codemirror_mode": {
    "name": "ipython",
    "version": 3
   },
   "file_extension": ".py",
   "mimetype": "text/x-python",
   "name": "python",
   "nbconvert_exporter": "python",
   "pygments_lexer": "ipython3",
   "version": "3.8.9"
  },
  "orig_nbformat": 4,
  "vscode": {
   "interpreter": {
    "hash": "7567341d4109f7d7c109ca0cef11eb54bdf88081d7a72c6faa88d24a2db59b1f"
   }
  }
 },
 "nbformat": 4,
 "nbformat_minor": 2
}
