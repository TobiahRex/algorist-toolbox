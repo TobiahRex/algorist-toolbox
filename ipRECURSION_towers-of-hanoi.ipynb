{
 "cells": [
  {
   "cell_type": "markdown",
   "metadata": {},
   "source": [
    "# Towers of Hanoi\n"
   ]
  },
  {
   "cell_type": "code",
   "execution_count": 1,
   "metadata": {},
   "outputs": [
    {
     "data": {
      "text/plain": [
       "[[1, 2],\n",
       " [1, 3],\n",
       " [2, 3],\n",
       " [1, 2],\n",
       " [3, 1],\n",
       " [3, 2],\n",
       " [1, 2],\n",
       " [1, 3],\n",
       " [2, 3],\n",
       " [2, 1],\n",
       " [3, 1],\n",
       " [2, 3],\n",
       " [1, 2],\n",
       " [1, 3],\n",
       " [2, 3]]"
      ]
     },
     "execution_count": 1,
     "metadata": {},
     "output_type": "execute_result"
    }
   ],
   "source": [
    "\n",
    "def tower_of_hanoi(n, a=1, b=2, c=3, steps=[]):\n",
    "    if n == 0:\n",
    "        return\n",
    "    tower_of_hanoi(n-1, a, c, b)\n",
    "    steps.append([a, c])\n",
    "    tower_of_hanoi(n-1, b, a, c)\n",
    "    return steps\n",
    "tower_of_hanoi(4)"
   ]
  }
 ],
 "metadata": {
  "kernelspec": {
   "display_name": "Python 3.8.9 ('env': venv)",
   "language": "python",
   "name": "python3"
  },
  "language_info": {
   "codemirror_mode": {
    "name": "ipython",
    "version": 3
   },
   "file_extension": ".py",
   "mimetype": "text/x-python",
   "name": "python",
   "nbconvert_exporter": "python",
   "pygments_lexer": "ipython3",
   "version": "3.8.9"
  },
  "orig_nbformat": 4,
  "vscode": {
   "interpreter": {
    "hash": "7567341d4109f7d7c109ca0cef11eb54bdf88081d7a72c6faa88d24a2db59b1f"
   }
  }
 },
 "nbformat": 4,
 "nbformat_minor": 2
}
