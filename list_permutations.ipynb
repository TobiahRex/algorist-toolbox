{
 "cells": [
  {
   "cell_type": "code",
   "execution_count": null,
   "metadata": {},
   "outputs": [],
   "source": [
    "def swap(a, l, r):\n",
    "    a[l], a[r] = a[r], a[l]\n",
    "\n",
    "def permutations(slate, pos=0, results=[]):\n",
    "    if pos >= len(slate):\n",
    "        results.append(slate.copy())\n",
    "        return\n",
    "    for i in range(pos, len(slate)):\n",
    "        swap(slate, i, pos)\n",
    "        permutations(slate, pos + 1, results)\n",
    "        swap(slate, pos, i)\n",
    "    return results\n",
    "\n",
    "if __name__ == '__main__':\n",
    "    result = permutations([1, 2, 3])\n",
    "    answer = [\n",
    "        [1, 2, 3],\n",
    "        [1, 3, 2],\n",
    "        [2, 1, 3],\n",
    "        [2, 3, 1],\n",
    "        [3, 2, 1],\n",
    "        [3, 1, 2]]\n",
    "    assert result == answer, 'should be equal'"
   ]
  }
 ],
 "metadata": {
  "language_info": {
   "name": "python"
  },
  "orig_nbformat": 4
 },
 "nbformat": 4,
 "nbformat_minor": 2
}
