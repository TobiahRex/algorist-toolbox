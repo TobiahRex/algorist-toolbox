{
 "cells": [
  {
   "cell_type": "markdown",
   "metadata": {},
   "source": [
    "### General Theory\n",
    "Uses a __slate__ as a global-variable and inserts the Tree-Node's result into the slate on every Manager's call.\n",
    "Further, this slate uses a Dynamically adjusted __divider__ within the slate to logically separate 2 individual\n",
    "pieces of state; 1. __slate__, 2. Elements not within the __slate__.\n",
    "\n",
    "### Control Flow\n",
    "1. The **base case** is to check if the __slate__ is full. If so, then we've reached a leaf-node within the tree and we've completed the task of achieving an answer. Append contents of the slate to the results.\n",
    "2. "
   ]
  },
  {
   "cell_type": "markdown",
   "metadata": {},
   "source": []
  },
  {
   "cell_type": "code",
   "execution_count": 3,
   "metadata": {},
   "outputs": [],
   "source": [
    "def swap(a, l, r):\n",
    "    a[l], a[r] = a[r], a[l]\n",
    "\n",
    "def permutations(slate, pos=0, results=[]):\n",
    "    if pos >= len(slate):\n",
    "        results.append(slate.copy())\n",
    "        return\n",
    "    for i in range(pos, len(slate)):\n",
    "        swap(slate, i, pos)\n",
    "        permutations(slate, pos + 1, results)\n",
    "        swap(slate, pos, i)\n",
    "    return results\n",
    "\n",
    "if __name__ == '__main__':\n",
    "    result = permutations([1, 2, 3])\n",
    "    answer = [\n",
    "        [1, 2, 3],\n",
    "        [1, 3, 2],\n",
    "        [2, 1, 3],\n",
    "        [2, 3, 1],\n",
    "        [3, 2, 1],\n",
    "        [3, 1, 2]]\n",
    "    assert result == answer, 'should be equal'"
   ]
  }
 ],
 "metadata": {
  "kernelspec": {
   "display_name": "Python 3.8.9 ('env': venv)",
   "language": "python",
   "name": "python3"
  },
  "language_info": {
   "codemirror_mode": {
    "name": "ipython",
    "version": 3
   },
   "file_extension": ".py",
   "mimetype": "text/x-python",
   "name": "python",
   "nbconvert_exporter": "python",
   "pygments_lexer": "ipython3",
   "version": "3.8.9"
  },
  "orig_nbformat": 4,
  "vscode": {
   "interpreter": {
    "hash": "7567341d4109f7d7c109ca0cef11eb54bdf88081d7a72c6faa88d24a2db59b1f"
   }
  }
 },
 "nbformat": 4,
 "nbformat_minor": 2
}
