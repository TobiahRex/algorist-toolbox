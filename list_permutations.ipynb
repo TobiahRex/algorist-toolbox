{
 "cells": [
  {
   "cell_type": "markdown",
   "metadata": {},
   "source": [
    "# Permutations of an Array\n",
    "[LeetCode #46](https://leetcode.com/problems/permutations/)\n",
    "\n",
    "## General Theory\n",
    "- Uses a __slate__ as a global-variable and inserts the Tree-Node's result into the slate on every Manager's call.\n",
    "Further, this slate uses a Dynamically adjusted __divider__ within the slate to logically separate 2 individual\n",
    "pieces of state; 1. __slate__, 2. Elements not within the __slate__.\n",
    "- Uses a loop at each node, therefore the conceptual understanding is NOT a tree, just a callstack.\n",
    "    * More on this in the **Take Away** section.\n",
    "\n",
    "## Control Flow\n",
    "1. The **base case** is to check if the __slate__ is full. If so, then we've reached a leaf-node within the tree and we've completed the task of generating an answer. Append contents of the slate to the results.\n",
    "2. Each **manager** / **node** will have the job of iterating through the sub-section of the numbers that are to the _right_ of the slate's divider.\n",
    "    - This loops will run n-l times (n = # of elements, l = Tree-Level).\n",
    "3. Within this loop, we perform 3 operations.\n",
    "4. _First_: We swap the i'th element from our current scope'd loop, with the value adjacent to the slate's current divider position. See example below"
   ]
  },
  {
   "cell_type": "code",
   "execution_count": null,
   "metadata": {},
   "outputs": [],
   "source": [
    "# Control Flow.4 Example\n",
    "slate = [5, 4, 3, 2, 1]\n",
    "#             ^   i = 1   ---->   divider position\n",
    "swap(slate, i, pos) # i = 1, pos = 1\n",
    "slate = [5, 4, 3, 2, 1]"
   ]
  },
  {
   "cell_type": "markdown",
   "metadata": {},
   "source": [
    "## Control Flow (cont'd)\n",
    "4. [cont'd] - Theoretically we're trying to invision that the divider sits between index 1 & 2, so we say it's at index 1.\n",
    "    `pos` is describing the divider's current position. `0 to pos - 1` = All elements **within** the slate. And `pos to len(array)`  = All elements outside the slate.\n",
    "5. After we've called recursively and eventually arrived at a leaf node, we'll retrace to a previous call, and undo the swap we made. Then we'll iterate through the Node's loop, and swap again.\n",
    "6. On a high-level, we should think of separation of concerns as follows\n",
    "    - Tree-Level-Work:\n",
    "        * Decide the size of the slate we're filling by fixing the slate-divider location.\n",
    "        * Produce less work (smaller loop length) the deeper into the tree we go.\n",
    "    - Node-Level-Work:\n",
    "        * Swaps elements with the divider.\n",
    "        * Number of elements to be swapped = n-l. n = size of input. l = tree-level."
   ]
  },
  {
   "cell_type": "markdown",
   "metadata": {},
   "source": []
  },
  {
   "cell_type": "code",
   "execution_count": 3,
   "metadata": {},
   "outputs": [],
   "source": [
    "def swap(a, l, r):\n",
    "    a[l], a[r] = a[r], a[l]\n",
    "\n",
    "def get_set_permutations(slate, pos=0, results=[]):\n",
    "    if pos >= len(slate):\n",
    "        results.append(slate.copy())\n",
    "        return\n",
    "    for i in range(pos, len(slate)):\n",
    "        swap(slate, i, pos)\n",
    "        get_set_permutations(slate, pos + 1, results)\n",
    "        swap(slate, pos, i)\n",
    "    return results\n",
    "\n",
    "result = get_set_permutations([1, 2, 3])\n",
    "answer = [\n",
    "    [1, 2, 3],\n",
    "    [1, 3, 2],\n",
    "    [2, 1, 3],\n",
    "    [2, 3, 1],\n",
    "    [3, 2, 1],\n",
    "    [3, 1, 2]]\n",
    "assert result == answer, 'should be equal'"
   ]
  },
  {
   "cell_type": "markdown",
   "metadata": {},
   "source": [
    "## Tests"
   ]
  },
  {
   "cell_type": "code",
   "execution_count": null,
   "metadata": {},
   "outputs": [],
   "source": [
    "import unittest\n",
    "from random import randint as rint\n",
    "\n",
    "class PermutationTests(unittest.TestCase):\n",
    "    def __init__(self, *args, **kwargs):\n",
    "        super(PermutationTests, self).__init__(*args, **kwargs)\n",
    "\n",
    "    def test_result_length(self):\n",
    "        test_cases = self.get_test_cases(hi=0, lo=10, case_len=3, cases=1)\n",
    "        for tc in test_cases:\n",
    "            result = get_set_permutations(tc, 0, [])\n",
    "            self.assertEqual(len(result), 6)\n",
    "            self.assertIn(tc, result)\n",
    "\n",
    "    def test_result_1(self):\n",
    "        test_case = [1, 2, 3]\n",
    "        result = get_set_permutations(test_case, 0, [])\n",
    "        self.assertIn([1, 2, 3], result)\n",
    "        self.assertIn([3, 1, 2], result)\n",
    "        self.assertIn([3, 2, 1], result)\n",
    "        self.assertIn([2, 3, 1], result)\n",
    "        self.assertNotIn([3, 3, 2], result)\n",
    "        self.assertNotIn([3, 2, 2], result)\n",
    "        self.assertNotIn([1, 2, 1], result)\n",
    "        self.assertEqual(len(result), 6)\n",
    "\n",
    "    @staticmethod\n",
    "    def get_test_cases(hi, lo, case_len, cases):\n",
    "        test_cases = [\n",
    "            [rint(hi, lo) for i in range(0, case_len)]\n",
    "            for _ in range(0, cases)]\n",
    "        return test_cases\n",
    "\n",
    "unittest.main(argv=['first-arg-is-ignored'], exit=False)"
   ]
  },
  {
   "cell_type": "markdown",
   "metadata": {},
   "source": [
    "### TakeAways\n",
    "1. This problem is concerned with moving a series of elements to a particular location. It accomplishes this by using a loop at every recursive node. Because the quantity of these elements to be moved is dynamic, we can assign a thought-pattern to this particular type of problem:\n",
    "    * The Recursive Mental-Model will **NOT be a tree** but rather a **uni-directional stack** of calls.\n",
    "2. Each call, will perform a **loops-worth of work**.  This will generally mean, we're still doing some __Quadratic__ order of work so pay close attention to Reccurence Relation to verify.\n",
    "3. **Intuition** for _Recursive-Tree's_ : They are a product of deciding between a _forks-in-the-road_ which forces us to decide between 2 choices;\n",
    "    - > \"should i take it or leave it?\",\n",
    "    - > \"should i change it or not change it?\".\n",
    "4. **Intuition** for _Recursive-Stacks_ : They are a product of a _repetition-of-work_. Doing the same-thing over and over again, but the work-to-be-done is dynamically changing over time. I should think about a loop + recursive stack whenever similar situations arise I should think of a loop + recursion.\n",
    "    - > I must repeatedly move a pile of rocks, from point A to point B to point C..\n",
    "    - > I must repeatedly move N piles of rocks to M different locations."
   ]
  },
  {
   "cell_type": "markdown",
   "metadata": {},
   "source": [
    "### Tracing Tree Analysis\n",
    "1. Input is `[1, 2, 3]` so `N = 3`\n",
    "<img src=\"https://imgur.com/KMlTMZo.png\">\n",
    "\n",
    "### Time Complexity Analysis\n",
    "0. Input size was considered as `N = 4` for stronger understanding.\n",
    "1. The intuitive approach is to isolate the factorial distribution of the tracing tree.  At **L1** we can see  that `4!` is 4 groups of 3 iterations. At **L2** we can see `3!` which is 3 groups of 2 iterations.\n",
    "2. Taking special consideration at **L0** we can think of this level as a mandatory level where we group 4! into 1 location.\n",
    "3. At each leaf node in the tree, we perform a copy of a result array that has size `N`, which is why we multiply `N!` (tree work) by `N` (copy work).\n",
    "\n",
    "<img src=\"https://imgur.com/QnHxia1.png\">"
   ]
  }
 ],
 "metadata": {
  "kernelspec": {
   "display_name": "Python 3.8.9 ('env': venv)",
   "language": "python",
   "name": "python3"
  },
  "language_info": {
   "codemirror_mode": {
    "name": "ipython",
    "version": 3
   },
   "file_extension": ".py",
   "mimetype": "text/x-python",
   "name": "python",
   "nbconvert_exporter": "python",
   "pygments_lexer": "ipython3",
   "version": "3.8.9"
  },
  "orig_nbformat": 4,
  "vscode": {
   "interpreter": {
    "hash": "7567341d4109f7d7c109ca0cef11eb54bdf88081d7a72c6faa88d24a2db59b1f"
   }
  }
 },
 "nbformat": 4,
 "nbformat_minor": 2
}
