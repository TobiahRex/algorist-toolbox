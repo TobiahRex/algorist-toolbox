{
 "cells": [
  {
   "cell_type": "markdown",
   "metadata": {},
   "source": [
    "# Match Expression Generator\n",
    "Given a string `s` that consists of digits (\"0\"..\"9\") and `target`, a non-negative integer, find all expressions that can be built from string `s` that evaluate to the `target`.\n",
    "\n",
    "When building expressions, you have to insert one of the following operators between each pair of consecutive characters in `s`: `join` or `*` or `+`. For example, by inserting different operators between the two characters of string `\"12\"` we can get either `12` (`1` `join`ed with `2` or `\"12\"`) or `2` (`\"1*2\"`) or `3` (`\"1+2\"`).\n",
    "\n",
    "Other operators such as `-` or `÷` are NOT supported.\n",
    "\n",
    "Expressions that evaluate to the target but only utilize a part of `s` do not count: entire `s` has to be consumed.\n",
    "\n",
    "Precedence of the operators is conventional: `join` has the highest precedence, `*` – medium and `+` has the lowest precedence. For example, `1 + 2 * 34 = (1 + (2 * (34))) = 1 + 68 = 69`.\n",
    "\n",
    "You have to return **ALL** expressions that can be built from string `s` and evaluate to the target.\n",
    "\n",
    "* Example 1:\n",
    "    - input:\n",
    "    ```json\n",
    "            {\n",
    "        \"s\": \"202\",\n",
    "        \"target\": 4\n",
    "        }\n",
    "    ```\n",
    "    - output:\n",
    "    ```json\n",
    "        [\"2+0+2\", \"2+02\", \"2*02\"]\n",
    "    ```\n",
    "* **NOTES**:\n",
    "    - Order of strings in the output does not matter.\n",
    "    If there are no expressions that evaluate to target, return an empty list.\n",
    "    Returned strings must not contain spaces or any characters other than \"0\",..., \"9\", \"*\", \"+\".\n",
    "    All returned strings must start and end with a digit.\n",
    "    - Constraints:\n",
    "        - 1 <= length of s <= 13\n",
    "        - 1 <= target <= 1013"
   ]
  }
 ],
 "metadata": {
  "language_info": {
   "name": "python"
  },
  "orig_nbformat": 4
 },
 "nbformat": 4,
 "nbformat_minor": 2
}
