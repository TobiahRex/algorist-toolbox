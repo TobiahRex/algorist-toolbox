{
 "cells": [
  {
   "cell_type": "markdown",
   "metadata": {},
   "source": [
    "# Get Exponent\n",
    "Given a base a and an exponent b. Your task is to find ab. The value could be large enough. So, calculate ab % 1000000007."
   ]
  }
 ],
 "metadata": {
  "language_info": {
   "name": "python"
  },
  "orig_nbformat": 4
 },
 "nbformat": 4,
 "nbformat_minor": 2
}
