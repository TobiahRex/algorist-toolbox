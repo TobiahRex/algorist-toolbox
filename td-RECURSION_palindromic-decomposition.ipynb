{
 "cells": [
  {
   "cell_type": "markdown",
   "metadata": {},
   "source": [
    "# Palindromic Decomposition Of A String\n",
    "Find all palindromic decompositions of a given string s.\n",
    "\n",
    "A palindromic decomposition of string is a decomposition of the string into substrings, such that all those substrings are valid palindromes.\n",
    "* Example 1:\n",
    "    - input: `\"s\": \"abracadabra\"`\n",
    "    - output: `[\"a|b|r|a|c|ada|b|r|a\", \"a|b|r|aca|d|a|b|r|a\", \"a|b|r|a|c|a|d|a|b|r|a\"]`"
   ]
  }
 ],
 "metadata": {
  "language_info": {
   "name": "python"
  },
  "orig_nbformat": 4
 },
 "nbformat": 4,
 "nbformat_minor": 2
}
