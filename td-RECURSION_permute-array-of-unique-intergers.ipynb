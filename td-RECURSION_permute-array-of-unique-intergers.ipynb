{
 "cells": [
  {
   "cell_type": "markdown",
   "metadata": {},
   "source": [
    "# Permute Array of Unique Integers\n",
    "Given an array of unique numbers, return in any order all its permutations.\n",
    "\n",
    "* Example 1:\n",
    "    - input: `\"arr\": [1, 2, 3]`\n",
    "    - output:\n",
    "        ```python\n",
    "        [\n",
    "            [1, 2, 3],\n",
    "            [1, 3, 2],\n",
    "            [2, 1, 3],\n",
    "            [2, 3, 1],\n",
    "            [3, 2, 1],\n",
    "            [3, 1, 2]\n",
    "        ]\n",
    "        ```"
   ]
  }
 ],
 "metadata": {
  "kernelspec": {
   "display_name": "Python 3.8.9 ('env': venv)",
   "language": "python",
   "name": "python3"
  },
  "language_info": {
   "name": "python",
   "version": "3.8.9"
  },
  "orig_nbformat": 4,
  "vscode": {
   "interpreter": {
    "hash": "7567341d4109f7d7c109ca0cef11eb54bdf88081d7a72c6faa88d24a2db59b1f"
   }
  }
 },
 "nbformat": 4,
 "nbformat_minor": 2
}
