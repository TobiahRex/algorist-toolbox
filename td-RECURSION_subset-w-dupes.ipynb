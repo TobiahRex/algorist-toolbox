{
 "cells": [
  {
   "cell_type": "markdown",
   "metadata": {},
   "source": [
    "# Get Distinct Subsets\n",
    "Given a string that might contain duplicate characters, find all the possible distinct subsets of that string.\n",
    "\n",
    "* Example 1:\n",
    "    - input: `\"s\": \"abb\"`\n",
    "    - ouput: `[\"\", \"a\", \"aa\", \"aab\", \"ab\", \"b\"]`\n",
    "* Example 2:\n",
    "    - input: `\"s\": \"dc\"`\n",
    "    - ouput: `[\"\", \"c\", \"cd\", \"d\"]`"
   ]
  }
 ],
 "metadata": {
  "kernelspec": {
   "display_name": "Python 3.8.9 ('env': venv)",
   "language": "python",
   "name": "python3"
  },
  "language_info": {
   "name": "python",
   "version": "3.8.9"
  },
  "orig_nbformat": 4,
  "vscode": {
   "interpreter": {
    "hash": "7567341d4109f7d7c109ca0cef11eb54bdf88081d7a72c6faa88d24a2db59b1f"
   }
  }
 },
 "nbformat": 4,
 "nbformat_minor": 2
}
