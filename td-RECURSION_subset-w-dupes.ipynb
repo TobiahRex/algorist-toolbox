{
 "cells": [
  {
   "cell_type": "markdown",
   "metadata": {},
   "source": [
    "# Get Distinct Subsets\n",
    "Given a string that might contain duplicate characters, find all the possible distinct subsets of that string.\n",
    "\n",
    "* Example 1:\n",
    "    - input: `\"s\": \"abb\"`\n",
    "    - ouput: `[\"\", \"a\", \"aa\", \"aab\", \"ab\", \"b\"]`\n",
    "* Example 2:\n",
    "    - input: `\"s\": \"dc\"`\n",
    "    - ouput: `[\"\", \"c\", \"cd\", \"d\"]`"
   ]
  }
 ],
 "metadata": {
  "language_info": {
   "name": "python"
  },
  "orig_nbformat": 4
 },
 "nbformat": 4,
 "nbformat_minor": 2
}
