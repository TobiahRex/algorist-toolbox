{
 "cells": [
  {
   "cell_type": "markdown",
   "metadata": {},
   "source": [
    "# Sudoku\n",
    "Given a partially filled two-dimensional array, fill all the unfilled cells such that each row, each column and each 3 x 3 subgrid (as highlighted below by bolder lines) has every digit from 1 to 9 exactly once.\n",
    "\n",
    "Unfilled cells have a value of 0 on the given board.\n",
    "* Example 1:\n",
    "    - input:\n",
    "        ```\n",
    "        {\n",
    "            \"board\": [\n",
    "            [8, 4, 9, 0, 0, 3, 5, 7, 0],\n",
    "            [0, 1, 0, 0, 0, 0, 0, 0, 0],\n",
    "            [7, 0, 0, 0, 9, 0, 0, 8, 3],\n",
    "            [0, 0, 0, 9, 4, 6, 7, 0, 0],\n",
    "            [0, 8, 0, 0, 5, 0, 0, 4, 0],\n",
    "            [0, 0, 6, 8, 7, 2, 0, 0, 0],\n",
    "            [5, 7, 0, 0, 1, 0, 0, 0, 4],\n",
    "            [0, 0, 0, 0, 0, 0, 0, 1, 0],\n",
    "            [0, 2, 1, 7, 0, 0, 8, 6, 5]\n",
    "            ]\n",
    "        }```\n",
    "    - output:\n",
    "        ```\n",
    "        [\n",
    "            [8, 4, 9, 1, 6, 3, 5, 7, 2],\n",
    "            [3, 1, 5, 2, 8, 7, 4, 9, 6],\n",
    "            [7, 6, 2, 4, 9, 5, 1, 8, 3],\n",
    "            [1, 5, 3, 9, 4, 6, 7, 2, 8],\n",
    "            [2, 8, 7, 3, 5, 1, 6, 4, 9],\n",
    "            [4, 9, 6, 8, 7, 2, 3, 5, 1],\n",
    "            [5, 7, 8, 6, 1, 9, 2, 3, 4],\n",
    "            [6, 3, 4, 5, 2, 8, 9, 1, 7],\n",
    "            [9, 2, 1, 7, 3, 4, 8, 6, 5]\n",
    "            ]\n",
    "        ```"
   ]
  }
 ],
 "metadata": {
  "kernelspec": {
   "display_name": "Python 3.8.9 ('env': venv)",
   "language": "python",
   "name": "python3"
  },
  "language_info": {
   "name": "python",
   "version": "3.8.9"
  },
  "orig_nbformat": 4,
  "vscode": {
   "interpreter": {
    "hash": "7567341d4109f7d7c109ca0cef11eb54bdf88081d7a72c6faa88d24a2db59b1f"
   }
  }
 },
 "nbformat": 4,
 "nbformat_minor": 2
}
