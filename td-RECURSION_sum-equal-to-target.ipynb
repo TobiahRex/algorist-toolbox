{
 "cells": [
  {
   "cell_type": "markdown",
   "metadata": {},
   "source": [
    "# Generate All Combos w/Sum == Target\n",
    "Given an integer array, generate all the unique combinations of the array numbers that sum up to a given target value.\n",
    "\n",
    "* Example 1:\n",
    "    - input:\n",
    "        ```python\n",
    "        {\n",
    "            \"arr\": [1, 2, 3],\n",
    "            \"target\": 3\n",
    "        }\n",
    "        ```\n",
    "    - output:\n",
    "        ```python\n",
    "        [\n",
    "            [3],\n",
    "            [1, 2]\n",
    "        ]\n",
    "        ```\n",
    "* Example 2:\n",
    "    - input:\n",
    "        ```python\n",
    "        {\n",
    "            \"arr\": [1, 1, 1, 1],\n",
    "            \"target\": 2\n",
    "        }\n",
    "        ```\n",
    "    - output:\n",
    "        ```python\n",
    "        [\n",
    "            [1, 1]\n",
    "        ]\n",
    "        ```\n",
    "* **NOTES**:\n",
    "    - Each number in the array can be used exactly once.\n",
    "    - All the returned combinations must be different. Two combinations are considered different if their sorted version is different.\n",
    "    - The order of combinations and the order of the numbers inside a combination does not matter.\n",
    "* Constraints:\n",
    "    - 1 <= size of the input array <= 25\n",
    "    - 1 <= value in the array <= 100\n",
    "    - 1 <= target value <= 2500\n"
   ]
  }
 ],
 "metadata": {
  "language_info": {
   "name": "python"
  },
  "orig_nbformat": 4
 },
 "nbformat": 4,
 "nbformat_minor": 2
}
