{
 "cells": [
  {
   "cell_type": "markdown",
   "metadata": {},
   "source": [
    "# Words from Phone Number\n",
    "Given a seven-digit phone number, return all the character combinations that can be generated according to the following mapping:\n",
    "\n",
    "{\n",
    "    : 1, 2:abc, 3:def,\n",
    "    : 4:ghi, 5:jkl, 6:mno,\n",
    "    : 7:pqrs, 8:tuv, 9:wxyz\n",
    "    : *, 0, #\n",
    "}\n",
    "\n",
    "Return the combinations in the lexicographical order.\n",
    "\n",
    "* Example:\n",
    "    - input: `\"phone_number\": \"1234567\"`\n",
    "    - output:\n",
    "        ```python\n",
    "        [\n",
    "            \"adgjmp\",\n",
    "            \"adgjmq\",\n",
    "            \"adgjmr\",\n",
    "            \"adgjms\",\n",
    "            \"adgjnp\",\n",
    "            ...\n",
    "            \"cfilns\",\n",
    "            \"cfilop\",\n",
    "            \"cfiloq\",\n",
    "            \"cfilor\",\n",
    "            \"cfilos\"\n",
    "        ]\n",
    "        ```\n",
    "    - explanation: First string \"adgjmp\" in the first line comes from the first characters mapped to digits 2, 3, 4, 5, 6 and 7 respectively. Since digit 1 maps to nothing, nothing is appended before 'a'. Similarly, the fifth string \"adgjnp\" generated from first characters of 2, 3, 4, 5 second character of 6 and first character of 7. All combinations generated in such a way must be returned in the lexicographical order.\n",
    "    - **NOTES**:\n",
    "        * Return an array of the generated string combinations in the lexicographical order. If nothing can be generated, return an array with one string \"-1\".\n",
    "        * Digits 0 and 1 map to nothing. Other digits map to either three or four different characters each.\n",
    "    - **Constraints**:\n",
    "        * Input string is 7 characters long; each character is a digit.\n"
   ]
  }
 ],
 "metadata": {
  "language_info": {
   "name": "python"
  },
  "orig_nbformat": 4
 },
 "nbformat": 4,
 "nbformat_minor": 2
}
